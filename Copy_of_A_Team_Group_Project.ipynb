{
  "nbformat": 4,
  "nbformat_minor": 0,
  "metadata": {
    "colab": {
      "name": "Copy of A Team Group Project",
      "provenance": [],
      "collapsed_sections": [
        "iFUohkPWEn7E",
        "87swmQ2TFa59",
        "Bf8nYMsXiJ5N",
        "-kW4dBfxisKN",
        "c2AJeebri3t7",
        "aoi17vKxF39x"
      ],
      "toc_visible": true
    },
    "kernelspec": {
      "name": "python3",
      "display_name": "Python 3"
    }
  },
  "cells": [
    {
      "cell_type": "markdown",
      "metadata": {
        "id": "qqH8BnSuEXiV"
      },
      "source": [
        "#  Bidhaa Sasa Kenya"
      ]
    },
    {
      "cell_type": "markdown",
      "metadata": {
        "id": "iFUohkPWEn7E"
      },
      "source": [
        "##  1. Defining the question \r\n",
        "\r\n",
        "> Bidhaa Sasa is a women-focused start-up that uniquely combines financing and last-mile distribution of modern household goods in a one-stop shop for the rural areas. The start-up strives to make technology goods accessible and affordable by offering consumer financing to the under-served and unbanked. The products are delivered to clients’ doorsteps while making all products payable in affordable instalments and with mobile money. The products are sold through groups that are recruited and managed by women leaders in the rural heartlands of Kenya.\r\n",
        "\r\n",
        "> Bidhaa Sasa wishes to increase sales of its products by ensuring that they prospect for new clients while at the same time ensuring that the existing clients pick up a new product. The start-up further wishes to ensure that all prospective clients are able to finance their purchases. Our Team has been invited to analyse and advise the sales team on how this can be achieved.\r\n",
        "\r\n"
      ]
    },
    {
      "cell_type": "markdown",
      "metadata": {
        "id": "GFCJYNhjEnFp"
      },
      "source": [
        "### a) Specifying the question \r\n"
      ]
    },
    {
      "cell_type": "markdown",
      "metadata": {
        "id": "oMfSM3vhJZRw"
      },
      "source": [
        "We would like to identify which products move faster and move bigger volumes without being defaulted \r\n"
      ]
    },
    {
      "cell_type": "markdown",
      "metadata": {
        "id": "cSG8CuQnJZhq"
      },
      "source": [
        "### b) Defining the metric for success"
      ]
    },
    {
      "cell_type": "markdown",
      "metadata": {
        "id": "VplAUTE6JgW_"
      },
      "source": [
        "The metric for success would be to identify the product that moves the fastest, the most and is defaulted the least. "
      ]
    },
    {
      "cell_type": "markdown",
      "metadata": {
        "id": "1lb2AcZ1Jg5m"
      },
      "source": [
        "### c) Understanding the context "
      ]
    },
    {
      "cell_type": "markdown",
      "metadata": {
        "id": "Ii4hnLjRJoSN"
      },
      "source": [
        "\r\n",
        "\r\n",
        "    > Bidhaa Sasa is a women-focused start-up that uniquely combines financing and last-mile distribution of modern household goods in a one-stop shop for the rural areas. The start-up strives to make technology goods accessible and affordable by offering consumer financing to the under-served and unbanked. The products are delivered to clients’ doorsteps while making all products payable in affordable instalments and with mobile money. The products are sold through groups that are recruited and managed by women leaders in the rural heartlands of Kenya.\r\n",
        "\r\n",
        "    > Bidhaa Sasa wishes to increase sales of its products by ensuring that they prospect for new clients while at the same time ensuring that the existing clients pick up a new product. The start-up further wishes to ensure that all prospective clients are able to finance their purchases. Our Team has been invited to analyse and advise the sales team on how this can be achieved.\r\n"
      ]
    },
    {
      "cell_type": "markdown",
      "metadata": {
        "id": "gYcDRzLwJoeD"
      },
      "source": [
        "### d) Recording the experimental design "
      ]
    },
    {
      "cell_type": "markdown",
      "metadata": {
        "id": "Q9jtcX07Jv1V"
      },
      "source": [
        "The following are the steps that will be conducted in this analysis in order to fulfill the project goal satisfactorily:\r\n",
        "* Load data and preview preliminary characteristics of the dataset\r\n",
        "* Data cleaning (check for and deal with outliers, anomalies and missing data)\r\n",
        "* Perform univariate, bivariate and multivariate analysis\r\n",
        "* Specify the null and alternate hypotheses\r\n",
        "* Sampling\r\n",
        "* Perform hypothesis testing\r\n",
        "* Discuss the hypothesis test results\r\n",
        "* Prediction modelling\r\n",
        "* Project summary and conclusion\r\n",
        "\r\n"
      ]
    },
    {
      "cell_type": "markdown",
      "metadata": {
        "id": "BavyLtw_JwrK"
      },
      "source": [
        "### e) Data Relevance "
      ]
    },
    {
      "cell_type": "markdown",
      "metadata": {
        "id": "MuQDHNLlJ1LM"
      },
      "source": [
        "The dataset used in this analysis was obtained from Bidhaa Sasa website. The available data contains sales records from January 2019 through March 2020. The full dataset has 29 unique attributes and 31,516 records. "
      ]
    },
    {
      "cell_type": "markdown",
      "metadata": {
        "id": "FSeySc9bb-wg"
      },
      "source": [
        "https://docs.google.com/spreadsheets/d/1iNfuNRcljoR6ziMPxno4AYKSx8yIo8jKlLRuRrGt9zE/edit#gid=1171267039\r\n",
        "link to the data "
      ]
    },
    {
      "cell_type": "markdown",
      "metadata": {
        "id": "qF740sPDFF5r"
      },
      "source": [
        "## 2. Reading and checking the data set "
      ]
    },
    {
      "cell_type": "code",
      "metadata": {
        "id": "LeMsByoKFMkp"
      },
      "source": [
        "# Required libraries\r\n",
        "import pandas as pd\r\n",
        "import numpy as np\r\n",
        "import seaborn as sns\r\n",
        "import matplotlib.pyplot as plt\r\n",
        "from scipy.stats import chi2_contingency\r\n",
        "import datetime\r\n",
        "from scipy import stats"
      ],
      "execution_count": 35,
      "outputs": []
    },
    {
      "cell_type": "code",
      "metadata": {
        "id": "WMosJ2bbKF06",
        "colab": {
          "base_uri": "https://localhost:8080/",
          "height": 416
        },
        "outputId": "5e06742b-3354-4536-a628-b4842e574ef0"
      },
      "source": [
        "# Loading and previewing the data\r\n",
        "df = pd.read_csv('Bidhaaoutput.csv',na_values='missing_values')\r\n",
        "df.head(5)"
      ],
      "execution_count": 4,
      "outputs": [
        {
          "output_type": "execute_result",
          "data": {
            "text/html": [
              "<div>\n",
              "<style scoped>\n",
              "    .dataframe tbody tr th:only-of-type {\n",
              "        vertical-align: middle;\n",
              "    }\n",
              "\n",
              "    .dataframe tbody tr th {\n",
              "        vertical-align: top;\n",
              "    }\n",
              "\n",
              "    .dataframe thead th {\n",
              "        text-align: right;\n",
              "    }\n",
              "</style>\n",
              "<table border=\"1\" class=\"dataframe\">\n",
              "  <thead>\n",
              "    <tr style=\"text-align: right;\">\n",
              "      <th></th>\n",
              "      <th>Unnamed: 0</th>\n",
              "      <th>Client ID</th>\n",
              "      <th>Client name</th>\n",
              "      <th>DOB</th>\n",
              "      <th>ID Card</th>\n",
              "      <th>Gender</th>\n",
              "      <th>Account</th>\n",
              "      <th>Branch</th>\n",
              "      <th>Product</th>\n",
              "      <th>Loan Principal</th>\n",
              "      <th>Interest</th>\n",
              "      <th>Down Payment</th>\n",
              "      <th>Total amount</th>\n",
              "      <th>Principal</th>\n",
              "      <th>Interest.1</th>\n",
              "      <th>Fees</th>\n",
              "      <th>Total</th>\n",
              "      <th>Prepayment</th>\n",
              "      <th>Loan Officer</th>\n",
              "      <th>Cycle</th>\n",
              "      <th>Disbursed Date</th>\n",
              "      <th>Installments</th>\n",
              "      <th>Loan Frequency</th>\n",
              "      <th>Loan Frequency 2</th>\n",
              "      <th>Status</th>\n",
              "      <th>TRP</th>\n",
              "      <th>Group ID</th>\n",
              "      <th>Final Payment Date</th>\n",
              "      <th>Arrear Amount</th>\n",
              "      <th>Days in Arrears</th>\n",
              "    </tr>\n",
              "  </thead>\n",
              "  <tbody>\n",
              "    <tr>\n",
              "      <th>0</th>\n",
              "      <td>0</td>\n",
              "      <td>0008-0056-17323</td>\n",
              "      <td>NaN</td>\n",
              "      <td>1/1/1965</td>\n",
              "      <td>NaN</td>\n",
              "      <td>Female</td>\n",
              "      <td>18876</td>\n",
              "      <td>Vihiga</td>\n",
              "      <td>BORA</td>\n",
              "      <td>4,900.00</td>\n",
              "      <td>0</td>\n",
              "      <td>700</td>\n",
              "      <td>5,600.00</td>\n",
              "      <td>0</td>\n",
              "      <td>0</td>\n",
              "      <td>0</td>\n",
              "      <td>0</td>\n",
              "      <td>0</td>\n",
              "      <td>Anthony</td>\n",
              "      <td>1.0</td>\n",
              "      <td>1/9/2019</td>\n",
              "      <td>7</td>\n",
              "      <td>1</td>\n",
              "      <td>Monthly</td>\n",
              "      <td>Closed</td>\n",
              "      <td>71.40%</td>\n",
              "      <td>17073</td>\n",
              "      <td>8/3/2019</td>\n",
              "      <td>0</td>\n",
              "      <td>NaN</td>\n",
              "    </tr>\n",
              "    <tr>\n",
              "      <th>1</th>\n",
              "      <td>1</td>\n",
              "      <td>0008-0056-17324</td>\n",
              "      <td>NaN</td>\n",
              "      <td>5/15/1953</td>\n",
              "      <td>NaN</td>\n",
              "      <td>Female</td>\n",
              "      <td>18877</td>\n",
              "      <td>Vihiga</td>\n",
              "      <td>BORA</td>\n",
              "      <td>4,900.00</td>\n",
              "      <td>0</td>\n",
              "      <td>700</td>\n",
              "      <td>5,600.00</td>\n",
              "      <td>0</td>\n",
              "      <td>0</td>\n",
              "      <td>0</td>\n",
              "      <td>0</td>\n",
              "      <td>0</td>\n",
              "      <td>Anthony</td>\n",
              "      <td>1.0</td>\n",
              "      <td>1/9/2019</td>\n",
              "      <td>7</td>\n",
              "      <td>1</td>\n",
              "      <td>Monthly</td>\n",
              "      <td>Closed</td>\n",
              "      <td>100%</td>\n",
              "      <td>17073</td>\n",
              "      <td>3/12/2019</td>\n",
              "      <td>0</td>\n",
              "      <td>NaN</td>\n",
              "    </tr>\n",
              "    <tr>\n",
              "      <th>2</th>\n",
              "      <td>2</td>\n",
              "      <td>0008-0056-17326</td>\n",
              "      <td>NaN</td>\n",
              "      <td>1/1/1954</td>\n",
              "      <td>NaN</td>\n",
              "      <td>Female</td>\n",
              "      <td>18879</td>\n",
              "      <td>Vihiga</td>\n",
              "      <td>BORA</td>\n",
              "      <td>4,900.00</td>\n",
              "      <td>0</td>\n",
              "      <td>700</td>\n",
              "      <td>5,600.00</td>\n",
              "      <td>0</td>\n",
              "      <td>0</td>\n",
              "      <td>0</td>\n",
              "      <td>0</td>\n",
              "      <td>0</td>\n",
              "      <td>Anthony</td>\n",
              "      <td>1.0</td>\n",
              "      <td>1/9/2019</td>\n",
              "      <td>7</td>\n",
              "      <td>1</td>\n",
              "      <td>Monthly</td>\n",
              "      <td>Closed</td>\n",
              "      <td>14.30%</td>\n",
              "      <td>17073</td>\n",
              "      <td>8/8/2019</td>\n",
              "      <td>0</td>\n",
              "      <td>NaN</td>\n",
              "    </tr>\n",
              "    <tr>\n",
              "      <th>3</th>\n",
              "      <td>3</td>\n",
              "      <td>0008-0056-17327</td>\n",
              "      <td>NaN</td>\n",
              "      <td>12/30/1986</td>\n",
              "      <td>NaN</td>\n",
              "      <td>Female</td>\n",
              "      <td>18880</td>\n",
              "      <td>Vihiga</td>\n",
              "      <td>BORA</td>\n",
              "      <td>4,900.00</td>\n",
              "      <td>0</td>\n",
              "      <td>700</td>\n",
              "      <td>5,600.00</td>\n",
              "      <td>0</td>\n",
              "      <td>0</td>\n",
              "      <td>0</td>\n",
              "      <td>0</td>\n",
              "      <td>0</td>\n",
              "      <td>Anthony</td>\n",
              "      <td>1.0</td>\n",
              "      <td>1/9/2019</td>\n",
              "      <td>7</td>\n",
              "      <td>1</td>\n",
              "      <td>Monthly</td>\n",
              "      <td>Closed</td>\n",
              "      <td>14.30%</td>\n",
              "      <td>17073</td>\n",
              "      <td>8/8/2019</td>\n",
              "      <td>0</td>\n",
              "      <td>NaN</td>\n",
              "    </tr>\n",
              "    <tr>\n",
              "      <th>4</th>\n",
              "      <td>4</td>\n",
              "      <td>0008-0056-17328</td>\n",
              "      <td>NaN</td>\n",
              "      <td>1/2/1978</td>\n",
              "      <td>NaN</td>\n",
              "      <td>Male</td>\n",
              "      <td>18881</td>\n",
              "      <td>Vihiga</td>\n",
              "      <td>BORA</td>\n",
              "      <td>4,900.00</td>\n",
              "      <td>0</td>\n",
              "      <td>700</td>\n",
              "      <td>5,600.00</td>\n",
              "      <td>0</td>\n",
              "      <td>0</td>\n",
              "      <td>0</td>\n",
              "      <td>0</td>\n",
              "      <td>0</td>\n",
              "      <td>Anthony</td>\n",
              "      <td>1.0</td>\n",
              "      <td>1/9/2019</td>\n",
              "      <td>7</td>\n",
              "      <td>1</td>\n",
              "      <td>Monthly</td>\n",
              "      <td>Closed</td>\n",
              "      <td>100%</td>\n",
              "      <td>17073</td>\n",
              "      <td>8/1/2019</td>\n",
              "      <td>0</td>\n",
              "      <td>NaN</td>\n",
              "    </tr>\n",
              "  </tbody>\n",
              "</table>\n",
              "</div>"
            ],
            "text/plain": [
              "   Unnamed: 0        Client ID  ...  Arrear Amount Days in Arrears\n",
              "0           0  0008-0056-17323  ...              0             NaN\n",
              "1           1  0008-0056-17324  ...              0             NaN\n",
              "2           2  0008-0056-17326  ...              0             NaN\n",
              "3           3  0008-0056-17327  ...              0             NaN\n",
              "4           4  0008-0056-17328  ...              0             NaN\n",
              "\n",
              "[5 rows x 30 columns]"
            ]
          },
          "metadata": {
            "tags": []
          },
          "execution_count": 4
        }
      ]
    },
    {
      "cell_type": "code",
      "metadata": {
        "colab": {
          "base_uri": "https://localhost:8080/"
        },
        "id": "yu2Zw75WQYz6",
        "outputId": "5763a0b2-e46f-4441-8382-4ff05f419d43"
      },
      "source": [
        "# Dataset shape\r\n",
        "df.shape"
      ],
      "execution_count": 5,
      "outputs": [
        {
          "output_type": "execute_result",
          "data": {
            "text/plain": [
              "(31516, 30)"
            ]
          },
          "metadata": {
            "tags": []
          },
          "execution_count": 5
        }
      ]
    },
    {
      "cell_type": "code",
      "metadata": {
        "colab": {
          "base_uri": "https://localhost:8080/"
        },
        "id": "2rpVGaJCQiI7",
        "outputId": "21334ec3-3241-48a2-cc4d-b3e22ac6a226"
      },
      "source": [
        "# General information on the dataset\r\n",
        "df.info()"
      ],
      "execution_count": 6,
      "outputs": [
        {
          "output_type": "stream",
          "text": [
            "<class 'pandas.core.frame.DataFrame'>\n",
            "RangeIndex: 31516 entries, 0 to 31515\n",
            "Data columns (total 30 columns):\n",
            " #   Column              Non-Null Count  Dtype  \n",
            "---  ------              --------------  -----  \n",
            " 0   Unnamed: 0          31516 non-null  int64  \n",
            " 1   Client ID           31516 non-null  object \n",
            " 2   Client name         0 non-null      float64\n",
            " 3   DOB                 31502 non-null  object \n",
            " 4   ID Card             6665 non-null   object \n",
            " 5   Gender              31516 non-null  object \n",
            " 6   Account             31516 non-null  int64  \n",
            " 7   Branch              31516 non-null  object \n",
            " 8   Product             31516 non-null  object \n",
            " 9   Loan Principal      31516 non-null  object \n",
            " 10  Interest            31516 non-null  int64  \n",
            " 11  Down Payment        31516 non-null  object \n",
            " 12  Total amount        31516 non-null  object \n",
            " 13  Principal           31516 non-null  object \n",
            " 14  Interest.1          31516 non-null  int64  \n",
            " 15  Fees                31516 non-null  int64  \n",
            " 16  Total               31516 non-null  object \n",
            " 17  Prepayment          31516 non-null  object \n",
            " 18  Loan Officer        31516 non-null  object \n",
            " 19  Cycle               30823 non-null  float64\n",
            " 20  Disbursed Date      31516 non-null  object \n",
            " 21  Installments        31516 non-null  int64  \n",
            " 22  Loan Frequency      31516 non-null  int64  \n",
            " 23  Loan Frequency 2    31516 non-null  object \n",
            " 24  Status              31516 non-null  object \n",
            " 25  TRP                 31313 non-null  object \n",
            " 26  Group ID            31516 non-null  object \n",
            " 27  Final Payment Date  18764 non-null  object \n",
            " 28  Arrear Amount       31516 non-null  object \n",
            " 29  Days in Arrears     5107 non-null   float64\n",
            "dtypes: float64(3), int64(7), object(20)\n",
            "memory usage: 7.2+ MB\n"
          ],
          "name": "stdout"
        }
      ]
    },
    {
      "cell_type": "markdown",
      "metadata": {
        "id": "hU5EH1DhFUwo"
      },
      "source": [
        "## 3. Cleaning the data"
      ]
    },
    {
      "cell_type": "code",
      "metadata": {
        "colab": {
          "base_uri": "https://localhost:8080/"
        },
        "id": "BbG67_MY-lXj",
        "outputId": "f813b11f-2291-4b3f-91c5-356689d1e4ca"
      },
      "source": [
        "# Replacing whitespace with underscore in column names\r\n",
        "df.columns = df.columns.str.replace(' ','_')\r\n",
        "\r\n",
        "# Map the lowering function to all column names\r\n",
        "df.columns = map(str.lower, df.columns)\r\n",
        "\r\n",
        "# Viewing the column names\r\n",
        "df.columns"
      ],
      "execution_count": 7,
      "outputs": [
        {
          "output_type": "execute_result",
          "data": {
            "text/plain": [
              "Index(['unnamed:_0', 'client_id', 'client_name', 'dob', 'id_card', 'gender',\n",
              "       'account', 'branch', 'product', 'loan_principal', 'interest',\n",
              "       'down_payment', 'total_amount', 'principal', 'interest.1', 'fees',\n",
              "       'total_', 'prepayment', 'loan_officer', 'cycle', 'disbursed_date',\n",
              "       'installments', 'loan_frequency', 'loan_frequency_2', 'status', 'trp',\n",
              "       'group_id', 'final_payment_date', 'arrear_amount', 'days_in_arrears'],\n",
              "      dtype='object')"
            ]
          },
          "metadata": {
            "tags": []
          },
          "execution_count": 7
        }
      ]
    },
    {
      "cell_type": "code",
      "metadata": {
        "colab": {
          "base_uri": "https://localhost:8080/"
        },
        "id": "Q7XQb80JMQBp",
        "outputId": "7e1539e4-aaca-4f71-afdb-50d57769b510"
      },
      "source": [
        "# Dropping unnecessary columns\r\n",
        "\r\n",
        "df = df.drop(['unnamed:_0', 'client_id', 'client_name', 'days_in_arrears'], axis=1)\r\n",
        "df.columns"
      ],
      "execution_count": 8,
      "outputs": [
        {
          "output_type": "execute_result",
          "data": {
            "text/plain": [
              "Index(['dob', 'id_card', 'gender', 'account', 'branch', 'product',\n",
              "       'loan_principal', 'interest', 'down_payment', 'total_amount',\n",
              "       'principal', 'interest.1', 'fees', 'total_', 'prepayment',\n",
              "       'loan_officer', 'cycle', 'disbursed_date', 'installments',\n",
              "       'loan_frequency', 'loan_frequency_2', 'status', 'trp', 'group_id',\n",
              "       'final_payment_date', 'arrear_amount'],\n",
              "      dtype='object')"
            ]
          },
          "metadata": {
            "tags": []
          },
          "execution_count": 8
        }
      ]
    },
    {
      "cell_type": "code",
      "metadata": {
        "colab": {
          "base_uri": "https://localhost:8080/"
        },
        "id": "N11Phf4KMuB0",
        "outputId": "e9c1e9bd-89b6-43e0-fcd4-5a0d1c5bf91d"
      },
      "source": [
        "# Inspecting the unique elements for each column\r\n",
        "cols = df.columns\r\n",
        "\r\n",
        "for col in cols:\r\n",
        "  print(col.upper())\r\n",
        "  print(df[col].unique())"
      ],
      "execution_count": 9,
      "outputs": [
        {
          "output_type": "stream",
          "text": [
            "DOB\n",
            "['1/1/1965' '5/15/1953' '1/1/1954' ... '9/3/1986' '1/8/1995' '5/26/1991']\n",
            "ID_CARD\n",
            "[nan '36515632' '337434664' ... '26664037' '31193142' '29676279']\n",
            "GENDER\n",
            "['Female' 'Male']\n",
            "ACCOUNT\n",
            "[18876 18877 18879 ... 50993 50994 50995]\n",
            "BRANCH\n",
            "['Vihiga' 'Siaya' \"Moi's Bridge\" 'Webuye' 'Mumias' 'Kapsabet' 'Bomet']\n",
            "PRODUCT\n",
            "['BORA' 'LPG2' 'BOOM' 'P400' 'SKH+' 'COOK' 'TANK' 'GASC' 'HOME' 'LPG3'\n",
            " 'B00M' 'CNVS' 'JIKO' 'MRKT' 'SILO' 'TNK' 'PRO4' 'SPRA' 'SLO2' 'CVS2'\n",
            " 'KUNI' 'EPC']\n",
            "LOAN_PRINCIPAL\n",
            "['4,900.00' '4,800.00' '4,200.00' '2,800.00' '9,600.00' '12,000.00'\n",
            " '5,400.00' '10,800.00' '4,500.00' '2,100.00' '12,600.00' '3,000.00'\n",
            " '7,200.00' '3,500.00' '4,000.00' '3,600.00' '13,500.00']\n",
            "INTEREST\n",
            "[0]\n",
            "DOWN_PAYMENT\n",
            "['700' '1,200.00' '2,000.00' '900' '500' '1,800.00' '600']\n",
            "TOTAL_AMOUNT\n",
            "['5,600.00' '6,000.00' '4,900.00' '3,500.00' '10,800.00' '14,000.00'\n",
            " '6,300.00' '11,700.00' '5,000.00' '5,900.00' '2,800.00' '14,400.00'\n",
            " '8,400.00' '4,200.00' '4,500.00' '5,400.00' '3,600.00' '4,800.00'\n",
            " '8,100.00' '15,300.00']\n",
            "PRINCIPAL\n",
            "['0' '3,980.00' '4,000.00' ... '4,570.00' '4,517.00' '5,093.00']\n",
            "INTEREST.1\n",
            "[0]\n",
            "FEES\n",
            "[0]\n",
            "TOTAL_\n",
            "['0' '1,200.00' '1,000.00' ... '4,570.00' '4,517.00' '5,093.00']\n",
            "PREPAYMENT\n",
            "['0' '-5' '-600' '-1' '-50' '-1,000.00' '-100' '-1,150.00' '-20' '-350'\n",
            " '-30' '-2' '-500' '-550' '-700' '-800' '-920' '-10' '-850' '-400' '-200'\n",
            " '-790' '-310' '-133' '-830' '-11' '-15' '-450' '-4' '-26' '-372' '-580'\n",
            " '-1,100.00' '-3' '-900' '-44' '-860' '-40' '-380' '-7' '-70' '-28' '-250'\n",
            " '-35' '-25' '-150' '-300' '-8' '-410' '-43' '-840' '-444' '900'\n",
            " '-1,199.00' '-530' '-90' '-630' '-330' '-18' '-270' '-71' '-994'\n",
            " '-1,650.00' '-80' '-680' '-1,200.00' '-492' '-1,800.00' '-33' '-271'\n",
            " '-548' '-190' '-1,050.00' '-96' '1,800.00' '1,200.00' '-316' '-577'\n",
            " '-495' '-66' '-750' '-670' '100' '950' '-6' '-160' '-9' '-21' '-17' '550'\n",
            " '300' '50' '-890' '-295' '-32' '20' '801' '-230' '210' '740' '-1,020.00'\n",
            " '-191' '200' '2,700.00' '-645' '-1,400.00' '-320' '-490' '-220' '-246'\n",
            " '-280' '-27' '400' '-799' '-255' '-110' '-669' '-93' '-650' '-53' '-130'\n",
            " '1,400.00' '1,700.00' '960' '9' '902' '4' '28' '3,300.00' '40' '-795'\n",
            " '-284' '202' '500' '-588' '-780' '-820' '-686' '10' '-56' '60' '-216'\n",
            " '-760' '3,100.00' '-675' '-1,700.00' '-470' '-23' '-240' '-98' '-349'\n",
            " '-440' '-266' '-493' '-560' '-420' '-275' '-101' '-14' '-180' '1,100.00'\n",
            " '-365' '600' '-162' '229' '700' '4,500.00' '-12' '63' '2,018.00' '-399'\n",
            " '-899' '-770' '-870' '-182' '-898' '-60' '-55' '-75' '-290' '-120' '-563'\n",
            " '39' '-510' '-370' '-1,850.00' '-653' '-672' '800' '-423' '178' '-59'\n",
            " '-555' '-1,370.00' '284' '-122' '-131' '154' '3' '1,000.00' '-398' '-170'\n",
            " '-565' '-153' '-104' '-622' '150' '430' '2,500.00' '-940' '-390' '280'\n",
            " '91' '-195' '-1,119.00' '-625' '2,080.00' '250' '-125' '141' '-595'\n",
            " '-105' '-791' '-536' '-116' '-47' '-345' '180' '-745' '-223' '2,606.00'\n",
            " '-148' '-222' '-1,180.00' '450' '27' '30' '-640' '510' '867' '-1,110.00'\n",
            " '-970' '-866' '-203' '-480' '-865' '-880' '-597' '-950' '-210' '1,300.00'\n",
            " '2,400.00' '-740' '-39' '4,100.00' '-897' '-822' '89' '5' '160' '-999'\n",
            " '2,300.00' '-1,182.00' '-1,120.00' '-857' '-471' '-730' '-887' '-360'\n",
            " '-192' '130' '-481' '-235' '675' '1,500.00' '-16' '-215' '-599' '2'\n",
            " '-695' '35' '490' '-540' '-520' '-447' '25' '443' '-45' '-497' '-99'\n",
            " '-460' '4,800.00' '6' '-249' '-796' '-95' '2,420.00' '-265' '-549' '-430'\n",
            " '618' '15' '-690' '-636' '-505' '-54' '750' '-352' '480' '899' '-980'\n",
            " '1,150.00' '290' '105' '990' '1' '201' '634' '-171' '-689' '790' '-421'\n",
            " '850' '-336' '-1,185.00' '-1,098.00' '-85' '220' '315' '-175' '1,210.00'\n",
            " '350' '-299' '140' '465' '3,600.00' '-610' '-193' '-831' '-615' '80'\n",
            " '-462' '-590' '22' '-303' '-198' '785' '-242' '120' '1,600.00' '-124'\n",
            " '650' '-166' '385' '127' '-585' '-923' '320' '-910' '535' '94' '-140'\n",
            " '-263' '680' '125' '2,100.00' '110' '11' '-221' '1,045.00' '360' '-605'\n",
            " '-1,160.00' '1,640.00' '-1,190.00' '104' '131' '-103' '170' '90' '401'\n",
            " '289' '-289' '1,724.00' '3,800.00' '620' '1,440.00' '-673' '2,000.00'\n",
            " '-301' '-109' '215' '-628' '230' '-177' '-264' '118' '390' '7' '-152'\n",
            " '-614' '-331' '-620' '8' '-1,300.00' '-710' '-84' '-699' '23' '29' '70'\n",
            " '14' '520' '-338' '-881' '366' '-461' '-629' '32' '184' '-1,183.00'\n",
            " '1,950.00' '65' '460' '41' '2,200.00' '1,830.00' '590' '2,800.00'\n",
            " '1,900.00' '-506' '206' '260' '-36' '2,118.00' '235' '77' '-1,196.00'\n",
            " '905' '-789' '-441' '37' '-199' '640' '-660' '1,051.00' '1,050.00' '560'\n",
            " '880' '810' '135' '-864' '187' '1,460.00' '755' '540' '570' '949'\n",
            " '3,500.00' '479' '-557' '530' '1,170.00' '630' '310' '124' '-591' '-137'\n",
            " '820' '420' '1,250.00' '403' '116' '102' '410' '860' '1,202.00' '71'\n",
            " '2,370.00' '575' '271' '1,550.00' '247' '1,310.00' '-514' '2,220.00'\n",
            " '1,710.00' '890' '-732' '-31' '1,450.00' '270' '340' '38' '505' '75' '57'\n",
            " '-392' '269' '-145' '-375' '1,548.00' '-394' '-570' '-885' '1,236.00'\n",
            " '-655' '2,330.00' '-67' '980' '-397' '-778' '-720' '5,300.00' '-598'\n",
            " '466' '283' '16' '710' '-65' '1,586.00' '1,066.00' '981' '4,300.00'\n",
            " '-875' '1,010.00' '108' '-658' '103' '2,050.00' '770' '190' '845' '240'\n",
            " '54' '12' '1,670.00' '930' '-347' '2,385.00' '1,850.00' '370' '13'\n",
            " '4,200.00' '3,000.00' '580' '966' '42' '43' '-260' '64' '523' '-340'\n",
            " '1,870.00' '470' '266' '242' '1,261.00' '321' '243' '6,300.00' '610' '55'\n",
            " '1,068.00' '1,225.00' '298' '31' '502' '-119' '690' '635' '-314' '119'\n",
            " '440' '53' '163' '-19' '245' '-473' '-287' '19' '-694' '1,687.00' '18'\n",
            " '-765' '1,650.00' '613' '760' '456' '660' '901' '1,340.00' '830' '307']\n",
            "LOAN_OFFICER\n",
            "[' Anthony' ' Camelyne' ' Job' ' Emma' ' Elaine' ' Josiah' ' Rose'\n",
            " ' Bibiana' ' Everlyne' ' Evans' ' Magdalene' ' Alice' ' Jennifer'\n",
            " ' Kevin' ' Caroline B' ' Nelly' ' Iscar' ' Lenny' ' Gideon' ' Irene'\n",
            " ' Christine S' ' Bramuel' ' Moses' ' Leonard' ' Pinto' ' Emmanuel'\n",
            " ' Francisca' ' Ruth' ' Esther' ' Haron' ' Edith' ' Dennis' ' Dianah'\n",
            " ' Stecy' ' James' ' Wilberforce' ' Elizabeth' ' Stephen' ' Faith'\n",
            " ' Clevlyne' ' Dickson' ' Levy' ' Jude Esther' ' Caroline L' ' Muhanga'\n",
            " ' Victor' ' Harriet' ' Michael' ' Sipian' ' Hillary' ' Christine O'\n",
            " ' Benard' ' Dominic' ' Poebe' ' Emmy' ' Robert']\n",
            "CYCLE\n",
            "[ 1.  2.  3.  4.  5. nan  6.  7.  8.]\n",
            "DISBURSED_DATE\n",
            "['1/9/2019' '1/10/2019' '1/14/2019' '1/15/2019' '1/16/2019' '1/17/2019'\n",
            " '1/18/2019' '1/21/2019' '1/22/2019' '1/23/2019' '1/24/2019' '1/25/2019'\n",
            " '1/26/2019' '1/28/2019' '1/29/2019' '1/30/2019' '1/31/2019' '2/1/2019'\n",
            " '2/4/2019' '2/5/2019' '2/6/2019' '2/7/2019' '2/8/2019' '2/11/2019'\n",
            " '2/12/2019' '2/13/2019' '2/14/2019' '2/15/2019' '2/18/2019' '2/19/2019'\n",
            " '2/20/2019' '2/21/2019' '2/22/2019' '2/25/2019' '2/26/2019' '2/27/2019'\n",
            " '2/28/2019' '3/1/2019' '3/3/2019' '3/4/2019' '3/5/2019' '3/6/2019'\n",
            " '3/8/2019' '3/11/2019' '3/12/2019' '3/13/2019' '3/14/2019' '3/15/2019'\n",
            " '3/16/2019' '3/17/2019' '3/18/2019' '3/19/2019' '3/20/2019' '3/21/2019'\n",
            " '3/22/2019' '3/23/2019' '3/24/2019' '3/25/2019' '3/26/2019' '3/28/2019'\n",
            " '3/29/2019' '3/30/2019' '3/31/2019' '4/1/2019' '4/2/2019' '4/4/2019'\n",
            " '4/5/2019' '4/6/2019' '4/7/2019' '4/8/2019' '4/9/2019' '4/10/2019'\n",
            " '4/11/2019' '4/12/2019' '4/13/2019' '4/14/2019' '4/15/2019' '4/16/2019'\n",
            " '4/17/2019' '4/18/2019' '4/19/2019' '4/21/2019' '4/22/2019' '4/23/2019'\n",
            " '4/24/2019' '4/25/2019' '4/26/2019' '4/27/2019' '4/28/2019' '4/29/2019'\n",
            " '4/30/2019' '5/1/2019' '5/2/2019' '5/3/2019' '5/4/2019' '5/5/2019'\n",
            " '5/6/2019' '5/7/2019' '5/8/2019' '5/9/2019' '5/10/2019' '5/11/2019'\n",
            " '5/12/2019' '5/13/2019' '5/14/2019' '5/15/2019' '5/16/2019' '5/17/2019'\n",
            " '5/18/2019' '5/19/2019' '5/20/2019' '5/21/2019' '5/22/2019' '5/23/2019'\n",
            " '5/24/2019' '5/25/2019' '5/26/2019' '5/27/2019' '5/28/2019' '5/29/2019'\n",
            " '5/30/2019' '5/31/2019' '6/1/2019' '6/2/2019' '6/3/2019' '6/4/2019'\n",
            " '6/5/2019' '6/6/2019' '6/7/2019' '6/8/2019' '6/9/2019' '6/10/2019'\n",
            " '6/11/2019' '6/12/2019' '6/13/2019' '6/14/2019' '6/15/2019' '6/16/2019'\n",
            " '6/17/2019' '6/18/2019' '6/19/2019' '6/20/2019' '6/21/2019' '6/22/2019'\n",
            " '6/23/2019' '6/24/2019' '6/25/2019' '6/26/2019' '6/27/2019' '6/28/2019'\n",
            " '6/29/2019' '6/30/2019' '7/1/2019' '7/2/2019' '7/3/2019' '7/4/2019'\n",
            " '7/5/2019' '7/6/2019' '7/7/2019' '7/8/2019' '7/9/2019' '7/10/2019'\n",
            " '7/11/2019' '7/12/2019' '7/13/2019' '7/14/2019' '7/15/2019' '7/16/2019'\n",
            " '7/17/2019' '7/18/2019' '7/19/2019' '7/20/2019' '7/21/2019' '7/22/2019'\n",
            " '7/23/2019' '7/24/2019' '7/25/2019' '7/26/2019' '7/27/2019' '7/28/2019'\n",
            " '7/29/2019' '7/30/2019' '7/31/2019' '8/1/2019' '8/2/2019' '8/3/2019'\n",
            " '8/4/2019' '8/5/2019' '8/6/2019' '8/7/2019' '8/8/2019' '8/9/2019'\n",
            " '8/10/2019' '8/11/2019' '8/12/2019' '8/13/2019' '8/14/2019' '8/15/2019'\n",
            " '8/16/2019' '8/17/2019' '8/18/2019' '8/19/2019' '8/20/2019' '8/21/2019'\n",
            " '8/22/2019' '8/23/2019' '8/24/2019' '8/25/2019' '8/26/2019' '8/27/2019'\n",
            " '8/28/2019' '8/29/2019' '8/30/2019' '8/31/2019' '9/1/2019' '9/2/2019'\n",
            " '9/3/2019' '9/4/2019' '9/5/2019' '9/6/2019' '9/7/2019' '9/8/2019'\n",
            " '9/9/2019' '9/10/2019' '9/11/2019' '9/12/2019' '9/13/2019' '9/14/2019'\n",
            " '9/15/2019' '9/16/2019' '9/17/2019' '9/18/2019' '9/19/2019' '9/20/2019'\n",
            " '9/21/2019' '9/22/2019' '9/23/2019' '9/24/2019' '9/25/2019' '9/26/2019'\n",
            " '9/27/2019' '9/28/2019' '9/29/2019' '9/30/2019' '10/1/2019' '10/2/2019'\n",
            " '10/3/2019' '10/4/2019' '10/5/2019' '10/6/2019' '10/7/2019' '10/8/2019'\n",
            " '10/9/2019' '10/10/2019' '10/11/2019' '10/12/2019' '10/13/2019'\n",
            " '10/14/2019' '10/15/2019' '10/16/2019' '10/17/2019' '10/18/2019'\n",
            " '10/19/2019' '10/20/2019' '10/21/2019' '10/22/2019' '10/23/2019'\n",
            " '10/24/2019' '10/25/2019' '10/26/2019' '10/27/2019' '10/28/2019'\n",
            " '10/29/2019' '10/30/2019' '10/31/2019' '11/1/2019' '11/2/2019'\n",
            " '11/3/2019' '11/4/2019' '11/5/2019' '11/6/2019' '11/7/2019' '11/8/2019'\n",
            " '11/9/2019' '11/10/2019' '11/11/2019' '11/12/2019' '11/13/2019'\n",
            " '11/14/2019' '11/15/2019' '11/16/2019' '11/17/2019' '11/18/2019'\n",
            " '11/19/2019' '11/20/2019' '11/21/2019' '11/22/2019' '11/23/2019'\n",
            " '11/24/2019' '11/25/2019' '11/26/2019' '11/27/2019' '11/28/2019'\n",
            " '11/29/2019' '11/30/2019' '12/1/2019' '12/2/2019' '12/3/2019' '12/4/2019'\n",
            " '12/5/2019' '12/6/2019' '12/7/2019' '12/8/2019' '12/9/2019' '12/10/2019'\n",
            " '12/11/2019' '12/12/2019' '12/14/2019' '12/15/2019' '12/16/2019'\n",
            " '12/17/2019' '12/18/2019' '12/19/2019' '12/20/2019' '12/21/2019'\n",
            " '12/22/2019' '12/23/2019' '12/26/2019' '1/6/2020' '1/14/2020' '1/15/2020'\n",
            " '1/16/2020' '1/17/2020' '1/18/2020' '1/19/2020' '1/20/2020' '1/21/2020'\n",
            " '1/22/2020' '1/23/2020' '1/24/2020' '1/25/2020' '1/26/2020' '1/27/2020'\n",
            " '1/28/2020' '1/29/2020' '1/30/2020' '1/31/2020' '2/1/2020' '2/2/2020'\n",
            " '2/3/2020' '2/4/2020' '2/5/2020' '2/6/2020' '2/7/2020' '2/8/2020'\n",
            " '2/9/2020' '2/10/2020' '2/11/2020' '2/12/2020' '2/13/2020' '2/14/2020'\n",
            " '2/15/2020' '2/16/2020' '2/17/2020' '2/18/2020' '2/19/2020' '2/20/2020'\n",
            " '2/21/2020' '2/22/2020' '2/23/2020' '2/24/2020' '2/25/2020' '2/26/2020'\n",
            " '2/27/2020' '2/28/2020' '2/29/2020' '3/1/2020' '3/2/2020' '3/3/2020'\n",
            " '3/4/2020' '3/5/2020' '3/6/2020' '3/7/2020' '3/8/2020' '3/9/2020'\n",
            " '3/10/2020' '3/11/2020' '3/12/2020' '3/13/2020' '3/14/2020' '3/15/2020'\n",
            " '3/16/2020' '3/17/2020' '3/18/2020' '3/19/2020' '3/20/2020' '3/21/2020'\n",
            " '3/22/2020' '3/23/2020' '3/24/2020' '3/25/2020' '3/26/2020' '3/27/2020'\n",
            " '3/28/2020' '3/29/2020' '3/30/2020' '3/31/2020']\n",
            "INSTALLMENTS\n",
            "[ 7  4  6  8 10 12  9  3 14  5 15]\n",
            "LOAN_FREQUENCY\n",
            "[1]\n",
            "LOAN_FREQUENCY_2\n",
            "['Monthly']\n",
            "STATUS\n",
            "['Closed' 'Written Off' 'Overdue' 'Active' 'Overpaid' 'Restructured']\n",
            "TRP\n",
            "['71.40%' '100%' '14.30%' '28.60%' '25%' '83.30%' '66.70%' '75%' '50%'\n",
            " '0%' '85.70%' '57.10%' '62.50%' '42.90%' '33.30%' '12.50%' '37.50%'\n",
            " '87.50%' '16.70%' '80%' '60%' '40%' '55.60%' '11.10%' '77.80%' '70%'\n",
            " '20%' '10%' '90%' '30%' '44.40%' '8.30%' '88.90%' '91.70%' '30.80%'\n",
            " '46.20%' '53.90%' '69.20%' '41.70%' '23.10%' '7.70%' '22.20%' '58.30%'\n",
            " '36.40%' '81.80%' '72.70%' '45.50%' '18.20%' '54.60%' '63.60%' '9.10%'\n",
            " '90.90%' '27.30%' nan]\n",
            "GROUP_ID\n",
            "['17073' '17109' '17168' ... '46876' '46587' '46870']\n",
            "FINAL_PAYMENT_DATE\n",
            "['8/3/2019' '3/12/2019' '8/8/2019' '8/1/2019' '8/7/2019' '8/10/2019'\n",
            " '6/8/2019' '8/13/2019' '5/1/2019' '4/29/2019' '5/6/2019' '5/2/2019'\n",
            " '5/8/2019' '5/7/2019' '1/11/2019' '7/6/2019' '7/14/2019' '6/30/2019'\n",
            " '7/19/2019' '7/9/2019' '9/1/2019' '5/13/2019' '10/9/2019' '7/24/2019'\n",
            " '6/18/2019' '8/4/2019' '7/16/2019' '5/4/2019' '5/10/2019' '4/30/2019'\n",
            " '5/3/2019' '4/23/2019' '5/11/2019' '4/17/2019' '3/17/2019' '5/26/2019'\n",
            " '5/16/2019' '5/19/2019' '5/14/2019' '5/9/2019' '5/17/2019' '6/9/2019'\n",
            " '7/2/2019' '9/9/2019' '9/25/2019' '10/5/2019' '11/8/2019' '9/26/2019'\n",
            " '5/15/2019' '8/14/2019' '8/12/2019' '4/5/2019' '9/8/2019' '3/24/2019'\n",
            " '6/25/2019' '3/18/2019' '3/1/2019' '6/21/2019' '8/9/2019' '5/31/2019'\n",
            " '5/21/2019' '3/15/2019' '3/26/2019' '4/8/2019' '5/22/2019' '8/11/2019'\n",
            " '8/17/2019' '8/16/2019' '8/15/2019' '7/27/2019' '9/2/2019' '9/5/2019'\n",
            " '5/20/2019' '7/18/2019' '7/8/2019' '3/8/2019' nan '9/11/2019' '2/14/2020'\n",
            " '12/22/2019' '9/22/2019' '6/5/2019' '4/22/2019' '4/15/2019' '5/23/2019'\n",
            " '6/10/2019' '5/27/2019' '5/29/2019' '5/24/2019' '5/28/2019' '8/20/2019'\n",
            " '8/6/2019' '7/13/2019' '8/19/2019' '2/14/2019' '6/6/2019' '8/18/2019'\n",
            " '11/4/2019' '8/21/2019' '9/20/2019' '12/12/2019' '9/18/2019' '5/12/2019'\n",
            " '5/18/2019' '9/15/2019' '9/17/2019' '9/28/2019' '6/3/2019' '10/8/2019'\n",
            " '6/7/2019' '6/29/2019' '8/5/2019' '6/12/2019' '7/5/2019' '4/1/2019'\n",
            " '5/25/2019' '7/10/2019' '9/21/2019' '9/19/2019' '6/14/2019' '6/4/2019'\n",
            " '7/22/2019' '8/26/2019' '7/17/2019' '8/28/2019' '8/25/2019' '9/12/2019'\n",
            " '3/14/2019' '6/15/2019' '6/26/2019' '6/1/2019' '6/19/2019' '9/3/2019'\n",
            " '9/13/2019' '6/28/2019' '9/24/2019' '8/27/2019' '8/30/2019' '8/24/2019'\n",
            " '8/22/2019' '6/23/2019' '7/7/2019' '11/14/2019' '7/25/2019' '7/15/2019'\n",
            " '10/1/2019' '6/20/2019' '4/26/2019' '4/7/2019' '6/22/2019' '1/24/2020'\n",
            " '7/21/2019' '5/5/2019' '2/21/2019' '8/23/2019' '7/12/2019' '4/18/2019'\n",
            " '6/2/2019' '6/24/2019' '3/22/2019' '6/16/2019' '7/23/2019' '6/13/2019'\n",
            " '10/11/2019' '9/23/2019' '10/13/2019' '9/7/2019' '8/31/2019' '9/6/2019'\n",
            " '8/2/2019' '9/4/2019' '8/29/2019' '10/6/2019' '9/29/2019' '10/2/2019'\n",
            " '10/27/2019' '4/27/2019' '5/30/2019' '12/5/2019' '7/4/2019' '3/29/2019'\n",
            " '6/17/2019' '4/12/2019' '3/30/2019' '12/2/2019' '10/7/2019' '10/24/2019'\n",
            " '7/31/2019' '7/3/2019' '2/13/2019' '4/25/2019' '6/11/2019' '12/4/2019'\n",
            " '4/16/2019' '7/11/2019' '3/4/2019' '11/10/2019' '10/14/2019' '12/3/2019'\n",
            " '9/30/2019' '3/10/2020' '2/28/2019' '9/10/2019' '4/24/2019' '11/25/2019'\n",
            " '2/15/2020' '10/4/2019' '10/26/2019' '9/16/2019' '10/3/2019' '10/10/2019'\n",
            " '2/16/2020' '7/30/2019' '9/27/2019' '3/25/2019' '7/26/2019' '2/4/2020'\n",
            " '3/6/2019' '7/1/2019' '7/29/2019' '12/8/2019' '12/1/2019' '4/11/2019'\n",
            " '11/3/2019' '10/31/2019' '1/15/2020' '3/30/2020' '2/27/2019' '12/23/2019'\n",
            " '6/27/2019' '9/14/2019' '10/12/2019' '10/17/2019' '11/20/2019'\n",
            " '1/27/2020' '2/24/2020' '7/20/2019' '11/1/2019' '2/20/2019' '3/16/2019'\n",
            " '10/18/2019' '10/29/2019' '11/21/2019' '1/30/2020' '10/19/2019'\n",
            " '3/11/2019' '11/7/2019' '12/21/2019' '12/26/2019' '4/3/2019' '11/19/2019'\n",
            " '10/16/2019' '4/13/2019' '12/17/2019' '11/29/2019' '10/21/2019'\n",
            " '11/15/2019' '7/28/2019' '3/19/2019' '3/31/2019' '1/6/2020' '3/3/2020'\n",
            " '11/2/2019' '2/6/2020' '10/28/2019' '2/7/2020' '11/6/2019' '2/18/2020'\n",
            " '1/23/2020' '11/5/2019' '12/9/2019' '11/12/2019' '3/28/2019' '11/13/2019'\n",
            " '2/5/2020' '4/6/2019' '4/10/2019' '1/7/2020' '1/16/2020' '1/25/2020'\n",
            " '1/8/2020' '1/13/2020' '12/25/2019' '1/9/2020' '11/9/2019' '11/30/2019'\n",
            " '12/15/2019' '3/20/2020' '12/14/2019' '1/4/2020' '2/28/2020' '3/11/2020'\n",
            " '4/11/2020' '3/9/2020' '11/17/2019' '3/28/2020' '11/22/2019' '4/26/2020'\n",
            " '12/19/2019' '10/15/2019' '11/16/2019' '11/11/2019' '11/23/2019'\n",
            " '10/25/2019' '12/18/2019' '10/20/2019' '10/23/2019' '4/20/2020'\n",
            " '12/16/2019' '3/15/2020' '12/13/2019' '3/16/2020' '11/18/2019'\n",
            " '10/22/2019' '12/20/2019' '1/22/2020' '2/22/2020' '4/4/2019' '4/7/2020'\n",
            " '4/27/2020' '3/1/2020' '4/14/2019' '3/23/2019' '3/18/2020' '2/17/2020'\n",
            " '12/6/2019' '2/1/2020' '1/26/2020' '1/21/2020' '10/30/2019' '11/24/2019'\n",
            " '3/7/2020' '11/28/2019' '2/9/2020' '1/31/2020' '2/27/2020' '2/3/2020'\n",
            " '2/2/2020' '2/12/2020' '1/20/2020' '3/23/2020' '4/17/2020' '2/23/2020'\n",
            " '3/25/2020' '3/21/2020' '1/12/2020' '1/2/2020' '12/30/2019' '1/10/2020'\n",
            " '2/13/2020' '2/25/2020' '1/17/2020' '12/31/2019' '2/20/2020' '3/22/2020'\n",
            " '3/29/2020' '3/26/2020' '11/26/2019' '1/29/2020' '11/27/2019'\n",
            " '12/29/2019' '12/28/2019' '4/2/2019' '1/1/2020' '12/7/2019' '1/3/2020'\n",
            " '1/5/2020' '4/5/2020' '3/12/2020' '4/22/2020' '2/29/2020' '4/4/2020'\n",
            " '4/6/2020' '4/13/2020' '3/5/2020' '3/2/2020' '1/14/2020' '12/10/2019'\n",
            " '4/8/2020' '4/16/2020' '4/28/2020' '4/14/2020' '4/9/2020' '4/15/2020'\n",
            " '4/21/2020' '12/24/2019' '1/11/2020' '1/18/2020' '3/6/2020' '12/27/2019'\n",
            " '2/8/2020' '3/8/2020' '3/14/2020' '2/19/2020' '2/10/2020' '4/24/2020'\n",
            " '4/2/2020' '4/10/2020' '2/26/2020' '3/19/2020' '3/4/2020' '12/11/2019'\n",
            " '3/27/2020' '1/19/2020' '2/21/2020' '3/13/2020' '3/17/2020' '2/11/2020'\n",
            " '4/12/2020' '4/3/2020' '1/28/2020' '3/31/2020' '3/24/2020' '4/18/2020'\n",
            " '4/1/2020' '4/19/2020' '4/25/2020' '4/23/2020']\n",
            "ARREAR_AMOUNT\n",
            "['0' '3,980.00' '4,000.00' '1,150.00' '700' '4,800.00' '2,650.00'\n",
            " '1,000.00' '1,500.00' '7,200.00' '2,500.00' '800' '7,500.00' '7,550.00'\n",
            " '1,590.00' '8,200.00' '2,555.00' '9,600.00' '920' '3,200.00' '3,300.00'\n",
            " '3,600.00' '4,450.00' '400' '2,300.00' '790' '6,200.00' '1,700.00' '310'\n",
            " '830' '200' '3,499.00' '450' '100' '1,400.00' '372' '1,200.00' '8,400.00'\n",
            " '1,819.00' '580' '1,100.00' '600' '1,800.00' '1,900.00' '1,699.00' '900'\n",
            " '2,800.00' '350' '860' '2,250.00' '2,400.00' '380' '3' '500' '250'\n",
            " '1,930.00' '300' '1,350.00' '410' '150' '840' '444' '5,399.00' '4,200.00'\n",
            " '2,000.00' '2,700.00' '1,050.00' '530' '630' '330' '9,000.00' '4,015.00'\n",
            " '2,694.00' '270' '1,470.00' '994' '1,920.00' '1,742.00' '7,520.00'\n",
            " '1,650.00' '1,770.00' '680' '1,899.00' '1,950.00' '755' '1,750.00' '702'\n",
            " '5,400.00' '2,090.00' '1,600.00' '548' '190' '1,145.00' '3,100.00' '96'\n",
            " '2,920.00' '316' '577' '495' '2,220.00' '550' '750' '2,750.00' '5,100.00'\n",
            " '6,400.00' '4,500.00' '3,900.00' '2,550.00' '1,380.00' '670' '1,353.00'\n",
            " '4,950.00' '2,540.00' '913' '5,155.00' '2,600.00' '160' '2,950.00'\n",
            " '3,690.00' '3,500.00' '2,350.00' '2,790.00' '890' '1,450.00' '2,683.00'\n",
            " '1,123.00' '1,020.00' '191' '1,170.00' '990' '1,394.00' '5,000.00' '80'\n",
            " '1,550.00' '645' '910' '2,100.00' '1,250.00' '3,274.00' '3,756.00' '950'\n",
            " '320' '490' '2,704.00' '220' '4,150.00' '1,300.00' '246' '3,250.00' '280'\n",
            " '4,400.00' '4,850.00' '2,900.00' '1,030.00' '2,640.00' '799' '912' '802'\n",
            " '255' '70' '110' '50' '669' '93' '650' '4,040.00' '1,850.00' '130'\n",
            " '3,443.00' '795' '284' '4,772.00' '2,040.00' '588' '780' '5,200.00' '820'\n",
            " '4,300.00' '686' '5,334.00' '20' '1,827.00' '1,720.00' '794' '216'\n",
            " '1,953.00' '2,043.00' '760' '4,100.00' '43' '675' '4,550.00' '1,808.00'\n",
            " '1,480.00' '4,470.00' '4,323.00' '3,350.00' '470' '2,341.00' '5,300.00'\n",
            " '2,200.00' '1,998.00' '240' '1,210.00' '98' '3,400.00' '349' '1,670.00'\n",
            " '440' '1,320.00' '1,748.00' '1,240.00' '266' '720' '493' '1,599.00' '560'\n",
            " '850' '3,310.00' '1,772.00' '420' '5,340.00' '1,215.00' '275' '2,690.00'\n",
            " '3,540.00' '1,244.00' '3,586.00' '180' '5,380.00' '4,698.00' '365' '162'\n",
            " '1,655.00' '3,450.00' '3,410.00' '1,491.00' '399' '1,270.00' '899' '770'\n",
            " '2,406.00' '3,800.00' '1,740.00' '1,820.00' '3,050.00' '870' '182' '898'\n",
            " '1' '930' '725' '4,490.00' '3,000.00' '290' '2,387.00' '120' '563'\n",
            " '1,467.00' '6,350.00' '510' '370' '2,780.00' '653' '672' '5,360.00'\n",
            " '3,009.00' '6,100.00' '555' '1,370.00' '10' '540' '2,450.00' '2,660.00'\n",
            " '2,099.00' '1,296.00' '2,699.00' '974' '3,930.00' '1,201.00' '3,590.00'\n",
            " '131' '398' '1,866.00' '170' '2,503.00' '2,860.00' '1,684.00' '565' '153'\n",
            " '622' '3,700.00' '1,395.00' '940' '390' '723' '3,097.00' '1,109.00' '810'\n",
            " '1,980.00' '195' '2,130.00' '6,000.00' '7,600.00' '1,119.00' '1,074.00'\n",
            " '2,010.00' '625' '2,150.00' '980' '230' '125' '595' '2,880.00' '6,300.00'\n",
            " '4,115.00' '791' '536' '12' '1,310.00' '3,298.00' '116' '4,422.00'\n",
            " '6,700.00' '7,264.00' '2,340.00' '4,048.00' '2,187.00' '47' '345'\n",
            " '2,260.00' '745' '2,874.00' '1,397.00' '2,990.00' '1,509.00' '960'\n",
            " '2,180.00' '1,580.00' '2,735.00' '3,240.00' '1,977.00' '5,250.00'\n",
            " '1,430.00' '223' '148' '222' '1,071.00' '3,070.00' '1,180.00' '4,596.00'\n",
            " '2,380.00' '640' '4,387.00' '1,330.00' '1,190.00' '3,036.00' '1,360.00'\n",
            " '3,740.00' '3,920.00' '2,210.00' '2,420.00' '1,080.00' '1,110.00'\n",
            " '1,577.00' '970' '2,053.00' '1,340.00' '1,455.00' '1,108.00' '1,560.00'\n",
            " '1,260.00' '866' '944' '1,690.00' '1,098.00' '203' '4,700.00' '1,008.00'\n",
            " '865' '1,290.00' '1,880.00' '1,490.00' '880' '1,499.00' '597' '210'\n",
            " '1,064.00' '1,610.00' '1,999.00' '740' '897' '2,649.00' '822' '1,979.00'\n",
            " '999' '1,182.00' '4,195.00' '857' '471' '1,355.00' '1,795.00' '704' '997'\n",
            " '925' '730' '1,780.00' '2,570.00' '2,850.00' '3,575.00' '887' '360' '40'\n",
            " '192' '1,424.00' '4,798.00' '5,310.00' '481' '235' '30' '215' '599' '695'\n",
            " '4,260.00' '1,710.00' '3,680.00' '520' '841' '1,620.00' '4,960.00' '447'\n",
            " '480' '45' '497' '460' '249' '975' '2,050.00' '1,106.00' '796' '1,165.00'\n",
            " '1,965.00' '856' '943' '1,895.00' '95' '1,354.00' '265' '1,391.00' '549'\n",
            " '1,220.00' '1,835.00' '4,420.00' '1,735.00' '2,838.00' '1,130.00'\n",
            " '2,679.00' '430' '1,431.00' '690' '636' '1,570.00' '352' '4,480.00'\n",
            " '2,740.00' '171' '689' '14' '421' '336' '1,185.00' '3,140.00' '1,295.00'\n",
            " '1,940.00' '85' '175' '902' '1,142.00' '299' '2,110.00' '895' '610' '193'\n",
            " '831' '615' '462' '590' '3,830.00' '1,077.00' '1,511.00' '3,136.00' '303'\n",
            " '198' '242' '2,680.00' '2,060.00' '2,532.00' '2,677.00' '124' '1,996.00'\n",
            " '166' '977' '848' '1,285.00' '3,470.00' '3,750.00' '3,230.00' '1,140.00'\n",
            " '585' '1,498.00' '3,550.00' '1,465.00' '3,570.00' '923' '1,680.00'\n",
            " '1,545.00' '3,591.00' '1,389.00' '1,396.00' '782' '1,399.00' '4,600.00'\n",
            " '710' '1,334.00' '1,626.00' '140' '263' '1,381.00' '221' '1,390.00' '605'\n",
            " '1,160.00' '5' '2,785.00' '1,964.00' '1,506.00' '3,067.00' '103'\n",
            " '1,225.00' '289' '673' '17' '301' '109' '628' '177' '264' '2,270.00'\n",
            " '951' '152' '90' '614' '331' '620' '4,660.00' '84' '699' '338' '881'\n",
            " '1,790.00' '99' '461' '2,820.00' '629' '1,752.00' '1,183.00' '506' '36'\n",
            " '60' '1,196.00' '789' '660' '864' '591' '137' '514' '732' '31' '392'\n",
            " '145' '71' '375' '394' '570' '885' '655' '505' '67' '397' '778' '598'\n",
            " '65' '875' '658' '347' '260' '340' '119' '314' '19' '473' '287' '694'\n",
            " '765' '55']\n"
          ],
          "name": "stdout"
        }
      ]
    },
    {
      "cell_type": "code",
      "metadata": {
        "colab": {
          "base_uri": "https://localhost:8080/"
        },
        "id": "Gd9DO10LN3kq",
        "outputId": "ab09bf03-964d-4ef8-ca27-bb0de4a7a0b5"
      },
      "source": [
        "# Further Dropping of columns\r\n",
        "df = df.drop(['id_card', 'interest', 'interest.1', 'fees', 'loan_frequency', 'loan_frequency_2'], axis=1)\r\n",
        "df.columns"
      ],
      "execution_count": 10,
      "outputs": [
        {
          "output_type": "execute_result",
          "data": {
            "text/plain": [
              "Index(['dob', 'gender', 'account', 'branch', 'product', 'loan_principal',\n",
              "       'down_payment', 'total_amount', 'principal', 'total_', 'prepayment',\n",
              "       'loan_officer', 'cycle', 'disbursed_date', 'installments', 'status',\n",
              "       'trp', 'group_id', 'final_payment_date', 'arrear_amount'],\n",
              "      dtype='object')"
            ]
          },
          "metadata": {
            "tags": []
          },
          "execution_count": 10
        }
      ]
    },
    {
      "cell_type": "code",
      "metadata": {
        "id": "j3C1vUer-lgK"
      },
      "source": [
        "# change dates to datetime\r\n",
        "df['disbursed_date'] = pd.to_datetime(df['disbursed_date'])\r\n",
        "\r\n",
        "df['dob'] = pd.to_datetime(df['dob'])\r\n",
        "\r\n",
        "df['final_payment_date'] = pd.to_datetime(df['final_payment_date'])"
      ],
      "execution_count": 11,
      "outputs": []
    },
    {
      "cell_type": "code",
      "metadata": {
        "id": "AiJmwWdIg5eU"
      },
      "source": [
        "# Creating column 'age_at_disbursement'\r\n",
        "df['age_at_disbursement'] = pd.DatetimeIndex(df['disbursed_date']).year - pd.DatetimeIndex(df['dob']).year"
      ],
      "execution_count": 12,
      "outputs": []
    },
    {
      "cell_type": "code",
      "metadata": {
        "colab": {
          "base_uri": "https://localhost:8080/"
        },
        "id": "lljEMzA8PkN7",
        "outputId": "cc0c7953-a17d-4310-d798-e77e5b0b5e61"
      },
      "source": [
        "# Previewing the unique entries of the new column\r\n",
        "df['age_at_disbursement'].unique()"
      ],
      "execution_count": 13,
      "outputs": [
        {
          "output_type": "execute_result",
          "data": {
            "text/plain": [
              "array([54., 66., 65., 33., 41., 37., 73., 30., 22., 43., 57., 63., 46.,\n",
              "       42., 44., 47., 36., 35., 28., 23., 34., 60., 49., 27., 39., 31.,\n",
              "       32., 29., 67., 20., 26., 55., 77., 56., 40., 38., 45., 19., 58.,\n",
              "       62., 69., 59., 21., 48., 25., 24., 71., 53., 51., 50., 95., 52.,\n",
              "       64., 61., 75., 70., 81., 18., 76., 68., 79., 80., 74., 85., 72.,\n",
              "       87., 88., 89., 84., 83., nan, 90., 78., 82., 86., 92., 91., 98.])"
            ]
          },
          "metadata": {
            "tags": []
          },
          "execution_count": 13
        }
      ]
    },
    {
      "cell_type": "code",
      "metadata": {
        "colab": {
          "base_uri": "https://localhost:8080/"
        },
        "id": "x-t9fwipfPUL",
        "outputId": "92bdab89-d4ab-4456-ff03-db313d231b3e"
      },
      "source": [
        "df.columns"
      ],
      "execution_count": 14,
      "outputs": [
        {
          "output_type": "execute_result",
          "data": {
            "text/plain": [
              "Index(['dob', 'gender', 'account', 'branch', 'product', 'loan_principal',\n",
              "       'down_payment', 'total_amount', 'principal', 'total_', 'prepayment',\n",
              "       'loan_officer', 'cycle', 'disbursed_date', 'installments', 'status',\n",
              "       'trp', 'group_id', 'final_payment_date', 'arrear_amount',\n",
              "       'age_at_disbursement'],\n",
              "      dtype='object')"
            ]
          },
          "metadata": {
            "tags": []
          },
          "execution_count": 14
        }
      ]
    },
    {
      "cell_type": "code",
      "metadata": {
        "id": "wTLN0HRl-lxO",
        "colab": {
          "base_uri": "https://localhost:8080/"
        },
        "outputId": "20911854-8bf1-4620-c428-a23d4edafa07"
      },
      "source": [
        "# Removing the commas in the  monetary columns\r\n",
        "mon_cols = ['loan_principal','down_payment','total_amount','prepayment']\r\n",
        "\r\n",
        "for mon_col in mon_cols:\r\n",
        "  df[mon_col] = df[mon_col].apply(lambda x : x.replace(',',''))\r\n",
        "\r\n",
        "df['product'] = df['product'].apply(lambda x : x.replace('00','OO'))\r\n",
        "# df.head()\r\n",
        "\r\n",
        "df.info()"
      ],
      "execution_count": 24,
      "outputs": [
        {
          "output_type": "stream",
          "text": [
            "<class 'pandas.core.frame.DataFrame'>\n",
            "Int64Index: 30606 entries, 0 to 31373\n",
            "Data columns (total 20 columns):\n",
            " #   Column               Non-Null Count  Dtype         \n",
            "---  ------               --------------  -----         \n",
            " 0   dob                  30606 non-null  datetime64[ns]\n",
            " 1   gender               30606 non-null  object        \n",
            " 2   account              30606 non-null  int64         \n",
            " 3   branch               30606 non-null  object        \n",
            " 4   product              30606 non-null  object        \n",
            " 5   loan_principal       30606 non-null  object        \n",
            " 6   down_payment         30606 non-null  object        \n",
            " 7   total_amount         30606 non-null  object        \n",
            " 8   principal            30606 non-null  object        \n",
            " 9   total_               30606 non-null  object        \n",
            " 10  prepayment           30606 non-null  object        \n",
            " 11  loan_officer         30606 non-null  object        \n",
            " 12  cycle                30606 non-null  float64       \n",
            " 13  disbursed_date       30606 non-null  datetime64[ns]\n",
            " 14  installments         30606 non-null  int64         \n",
            " 15  status               30606 non-null  object        \n",
            " 16  trp                  30606 non-null  object        \n",
            " 17  group_id             30606 non-null  object        \n",
            " 18  arrear_amount        30606 non-null  object        \n",
            " 19  age_at_disbursement  30606 non-null  float64       \n",
            "dtypes: datetime64[ns](2), float64(2), int64(2), object(14)\n",
            "memory usage: 4.9+ MB\n"
          ],
          "name": "stdout"
        }
      ]
    },
    {
      "cell_type": "code",
      "metadata": {
        "colab": {
          "base_uri": "https://localhost:8080/",
          "height": 388
        },
        "id": "ypoRlJ5N4UZr",
        "outputId": "7a5c3c56-f74a-4dc0-87b2-e0de78f311ed"
      },
      "source": [
        "# # Convert some columns to type float\r\n",
        "col2 = ['loan_principal','down_payment','total_amount','principal','total_','prepayment','trp','arrear_amount']\r\n",
        "\r\n",
        "for col in col2:\r\n",
        "  df[col] = df[col].astype(float)\r\n",
        "\r\n",
        "df.info()"
      ],
      "execution_count": 25,
      "outputs": [
        {
          "output_type": "error",
          "ename": "ValueError",
          "evalue": "ignored",
          "traceback": [
            "\u001b[0;31m---------------------------------------------------------------------------\u001b[0m",
            "\u001b[0;31mValueError\u001b[0m                                Traceback (most recent call last)",
            "\u001b[0;32m<ipython-input-25-df81cbcb18c1>\u001b[0m in \u001b[0;36m<module>\u001b[0;34m()\u001b[0m\n\u001b[1;32m      3\u001b[0m \u001b[0;34m\u001b[0m\u001b[0m\n\u001b[1;32m      4\u001b[0m \u001b[0;32mfor\u001b[0m \u001b[0mcol\u001b[0m \u001b[0;32min\u001b[0m \u001b[0mcol2\u001b[0m\u001b[0;34m:\u001b[0m\u001b[0;34m\u001b[0m\u001b[0;34m\u001b[0m\u001b[0m\n\u001b[0;32m----> 5\u001b[0;31m   \u001b[0mdf\u001b[0m\u001b[0;34m[\u001b[0m\u001b[0mcol\u001b[0m\u001b[0;34m]\u001b[0m \u001b[0;34m=\u001b[0m \u001b[0mdf\u001b[0m\u001b[0;34m[\u001b[0m\u001b[0mcol\u001b[0m\u001b[0;34m]\u001b[0m\u001b[0;34m.\u001b[0m\u001b[0mastype\u001b[0m\u001b[0;34m(\u001b[0m\u001b[0mfloat\u001b[0m\u001b[0;34m)\u001b[0m\u001b[0;34m\u001b[0m\u001b[0;34m\u001b[0m\u001b[0m\n\u001b[0m\u001b[1;32m      6\u001b[0m \u001b[0;34m\u001b[0m\u001b[0m\n\u001b[1;32m      7\u001b[0m \u001b[0mdf\u001b[0m\u001b[0;34m.\u001b[0m\u001b[0minfo\u001b[0m\u001b[0;34m(\u001b[0m\u001b[0;34m)\u001b[0m\u001b[0;34m\u001b[0m\u001b[0;34m\u001b[0m\u001b[0m\n",
            "\u001b[0;32m/usr/local/lib/python3.6/dist-packages/pandas/core/generic.py\u001b[0m in \u001b[0;36mastype\u001b[0;34m(self, dtype, copy, errors)\u001b[0m\n\u001b[1;32m   5546\u001b[0m         \u001b[0;32melse\u001b[0m\u001b[0;34m:\u001b[0m\u001b[0;34m\u001b[0m\u001b[0;34m\u001b[0m\u001b[0m\n\u001b[1;32m   5547\u001b[0m             \u001b[0;31m# else, only a single dtype is given\u001b[0m\u001b[0;34m\u001b[0m\u001b[0;34m\u001b[0m\u001b[0;34m\u001b[0m\u001b[0m\n\u001b[0;32m-> 5548\u001b[0;31m             \u001b[0mnew_data\u001b[0m \u001b[0;34m=\u001b[0m \u001b[0mself\u001b[0m\u001b[0;34m.\u001b[0m\u001b[0m_mgr\u001b[0m\u001b[0;34m.\u001b[0m\u001b[0mastype\u001b[0m\u001b[0;34m(\u001b[0m\u001b[0mdtype\u001b[0m\u001b[0;34m=\u001b[0m\u001b[0mdtype\u001b[0m\u001b[0;34m,\u001b[0m \u001b[0mcopy\u001b[0m\u001b[0;34m=\u001b[0m\u001b[0mcopy\u001b[0m\u001b[0;34m,\u001b[0m \u001b[0merrors\u001b[0m\u001b[0;34m=\u001b[0m\u001b[0merrors\u001b[0m\u001b[0;34m,\u001b[0m\u001b[0;34m)\u001b[0m\u001b[0;34m\u001b[0m\u001b[0;34m\u001b[0m\u001b[0m\n\u001b[0m\u001b[1;32m   5549\u001b[0m             \u001b[0;32mreturn\u001b[0m \u001b[0mself\u001b[0m\u001b[0;34m.\u001b[0m\u001b[0m_constructor\u001b[0m\u001b[0;34m(\u001b[0m\u001b[0mnew_data\u001b[0m\u001b[0;34m)\u001b[0m\u001b[0;34m.\u001b[0m\u001b[0m__finalize__\u001b[0m\u001b[0;34m(\u001b[0m\u001b[0mself\u001b[0m\u001b[0;34m,\u001b[0m \u001b[0mmethod\u001b[0m\u001b[0;34m=\u001b[0m\u001b[0;34m\"astype\"\u001b[0m\u001b[0;34m)\u001b[0m\u001b[0;34m\u001b[0m\u001b[0;34m\u001b[0m\u001b[0m\n\u001b[1;32m   5550\u001b[0m \u001b[0;34m\u001b[0m\u001b[0m\n",
            "\u001b[0;32m/usr/local/lib/python3.6/dist-packages/pandas/core/internals/managers.py\u001b[0m in \u001b[0;36mastype\u001b[0;34m(self, dtype, copy, errors)\u001b[0m\n\u001b[1;32m    602\u001b[0m         \u001b[0mself\u001b[0m\u001b[0;34m,\u001b[0m \u001b[0mdtype\u001b[0m\u001b[0;34m,\u001b[0m \u001b[0mcopy\u001b[0m\u001b[0;34m:\u001b[0m \u001b[0mbool\u001b[0m \u001b[0;34m=\u001b[0m \u001b[0;32mFalse\u001b[0m\u001b[0;34m,\u001b[0m \u001b[0merrors\u001b[0m\u001b[0;34m:\u001b[0m \u001b[0mstr\u001b[0m \u001b[0;34m=\u001b[0m \u001b[0;34m\"raise\"\u001b[0m\u001b[0;34m\u001b[0m\u001b[0;34m\u001b[0m\u001b[0m\n\u001b[1;32m    603\u001b[0m     ) -> \"BlockManager\":\n\u001b[0;32m--> 604\u001b[0;31m         \u001b[0;32mreturn\u001b[0m \u001b[0mself\u001b[0m\u001b[0;34m.\u001b[0m\u001b[0mapply\u001b[0m\u001b[0;34m(\u001b[0m\u001b[0;34m\"astype\"\u001b[0m\u001b[0;34m,\u001b[0m \u001b[0mdtype\u001b[0m\u001b[0;34m=\u001b[0m\u001b[0mdtype\u001b[0m\u001b[0;34m,\u001b[0m \u001b[0mcopy\u001b[0m\u001b[0;34m=\u001b[0m\u001b[0mcopy\u001b[0m\u001b[0;34m,\u001b[0m \u001b[0merrors\u001b[0m\u001b[0;34m=\u001b[0m\u001b[0merrors\u001b[0m\u001b[0;34m)\u001b[0m\u001b[0;34m\u001b[0m\u001b[0;34m\u001b[0m\u001b[0m\n\u001b[0m\u001b[1;32m    605\u001b[0m \u001b[0;34m\u001b[0m\u001b[0m\n\u001b[1;32m    606\u001b[0m     def convert(\n",
            "\u001b[0;32m/usr/local/lib/python3.6/dist-packages/pandas/core/internals/managers.py\u001b[0m in \u001b[0;36mapply\u001b[0;34m(self, f, align_keys, **kwargs)\u001b[0m\n\u001b[1;32m    407\u001b[0m                 \u001b[0mapplied\u001b[0m \u001b[0;34m=\u001b[0m \u001b[0mb\u001b[0m\u001b[0;34m.\u001b[0m\u001b[0mapply\u001b[0m\u001b[0;34m(\u001b[0m\u001b[0mf\u001b[0m\u001b[0;34m,\u001b[0m \u001b[0;34m**\u001b[0m\u001b[0mkwargs\u001b[0m\u001b[0;34m)\u001b[0m\u001b[0;34m\u001b[0m\u001b[0;34m\u001b[0m\u001b[0m\n\u001b[1;32m    408\u001b[0m             \u001b[0;32melse\u001b[0m\u001b[0;34m:\u001b[0m\u001b[0;34m\u001b[0m\u001b[0;34m\u001b[0m\u001b[0m\n\u001b[0;32m--> 409\u001b[0;31m                 \u001b[0mapplied\u001b[0m \u001b[0;34m=\u001b[0m \u001b[0mgetattr\u001b[0m\u001b[0;34m(\u001b[0m\u001b[0mb\u001b[0m\u001b[0;34m,\u001b[0m \u001b[0mf\u001b[0m\u001b[0;34m)\u001b[0m\u001b[0;34m(\u001b[0m\u001b[0;34m**\u001b[0m\u001b[0mkwargs\u001b[0m\u001b[0;34m)\u001b[0m\u001b[0;34m\u001b[0m\u001b[0;34m\u001b[0m\u001b[0m\n\u001b[0m\u001b[1;32m    410\u001b[0m             \u001b[0mresult_blocks\u001b[0m \u001b[0;34m=\u001b[0m \u001b[0m_extend_blocks\u001b[0m\u001b[0;34m(\u001b[0m\u001b[0mapplied\u001b[0m\u001b[0;34m,\u001b[0m \u001b[0mresult_blocks\u001b[0m\u001b[0;34m)\u001b[0m\u001b[0;34m\u001b[0m\u001b[0;34m\u001b[0m\u001b[0m\n\u001b[1;32m    411\u001b[0m \u001b[0;34m\u001b[0m\u001b[0m\n",
            "\u001b[0;32m/usr/local/lib/python3.6/dist-packages/pandas/core/internals/blocks.py\u001b[0m in \u001b[0;36mastype\u001b[0;34m(self, dtype, copy, errors)\u001b[0m\n\u001b[1;32m    593\u001b[0m             \u001b[0mvals1d\u001b[0m \u001b[0;34m=\u001b[0m \u001b[0mvalues\u001b[0m\u001b[0;34m.\u001b[0m\u001b[0mravel\u001b[0m\u001b[0;34m(\u001b[0m\u001b[0;34m)\u001b[0m\u001b[0;34m\u001b[0m\u001b[0;34m\u001b[0m\u001b[0m\n\u001b[1;32m    594\u001b[0m             \u001b[0;32mtry\u001b[0m\u001b[0;34m:\u001b[0m\u001b[0;34m\u001b[0m\u001b[0;34m\u001b[0m\u001b[0m\n\u001b[0;32m--> 595\u001b[0;31m                 \u001b[0mvalues\u001b[0m \u001b[0;34m=\u001b[0m \u001b[0mastype_nansafe\u001b[0m\u001b[0;34m(\u001b[0m\u001b[0mvals1d\u001b[0m\u001b[0;34m,\u001b[0m \u001b[0mdtype\u001b[0m\u001b[0;34m,\u001b[0m \u001b[0mcopy\u001b[0m\u001b[0;34m=\u001b[0m\u001b[0;32mTrue\u001b[0m\u001b[0;34m)\u001b[0m\u001b[0;34m\u001b[0m\u001b[0;34m\u001b[0m\u001b[0m\n\u001b[0m\u001b[1;32m    596\u001b[0m             \u001b[0;32mexcept\u001b[0m \u001b[0;34m(\u001b[0m\u001b[0mValueError\u001b[0m\u001b[0;34m,\u001b[0m \u001b[0mTypeError\u001b[0m\u001b[0;34m)\u001b[0m\u001b[0;34m:\u001b[0m\u001b[0;34m\u001b[0m\u001b[0;34m\u001b[0m\u001b[0m\n\u001b[1;32m    597\u001b[0m                 \u001b[0;31m# e.g. astype_nansafe can fail on object-dtype of strings\u001b[0m\u001b[0;34m\u001b[0m\u001b[0;34m\u001b[0m\u001b[0;34m\u001b[0m\u001b[0m\n",
            "\u001b[0;32m/usr/local/lib/python3.6/dist-packages/pandas/core/dtypes/cast.py\u001b[0m in \u001b[0;36mastype_nansafe\u001b[0;34m(arr, dtype, copy, skipna)\u001b[0m\n\u001b[1;32m    995\u001b[0m     \u001b[0;32mif\u001b[0m \u001b[0mcopy\u001b[0m \u001b[0;32mor\u001b[0m \u001b[0mis_object_dtype\u001b[0m\u001b[0;34m(\u001b[0m\u001b[0marr\u001b[0m\u001b[0;34m)\u001b[0m \u001b[0;32mor\u001b[0m \u001b[0mis_object_dtype\u001b[0m\u001b[0;34m(\u001b[0m\u001b[0mdtype\u001b[0m\u001b[0;34m)\u001b[0m\u001b[0;34m:\u001b[0m\u001b[0;34m\u001b[0m\u001b[0;34m\u001b[0m\u001b[0m\n\u001b[1;32m    996\u001b[0m         \u001b[0;31m# Explicit copy, or required since NumPy can't view from / to object.\u001b[0m\u001b[0;34m\u001b[0m\u001b[0;34m\u001b[0m\u001b[0;34m\u001b[0m\u001b[0m\n\u001b[0;32m--> 997\u001b[0;31m         \u001b[0;32mreturn\u001b[0m \u001b[0marr\u001b[0m\u001b[0;34m.\u001b[0m\u001b[0mastype\u001b[0m\u001b[0;34m(\u001b[0m\u001b[0mdtype\u001b[0m\u001b[0;34m,\u001b[0m \u001b[0mcopy\u001b[0m\u001b[0;34m=\u001b[0m\u001b[0;32mTrue\u001b[0m\u001b[0;34m)\u001b[0m\u001b[0;34m\u001b[0m\u001b[0;34m\u001b[0m\u001b[0m\n\u001b[0m\u001b[1;32m    998\u001b[0m \u001b[0;34m\u001b[0m\u001b[0m\n\u001b[1;32m    999\u001b[0m     \u001b[0;32mreturn\u001b[0m \u001b[0marr\u001b[0m\u001b[0;34m.\u001b[0m\u001b[0mview\u001b[0m\u001b[0;34m(\u001b[0m\u001b[0mdtype\u001b[0m\u001b[0;34m)\u001b[0m\u001b[0;34m\u001b[0m\u001b[0;34m\u001b[0m\u001b[0m\n",
            "\u001b[0;31mValueError\u001b[0m: could not convert string to float: '3,980.00'"
          ]
        }
      ]
    },
    {
      "cell_type": "code",
      "metadata": {
        "id": "hJx6xsWT4OdT",
        "colab": {
          "base_uri": "https://localhost:8080/"
        },
        "outputId": "f92e6fa6-940d-4883-f062-65aa64b6f021"
      },
      "source": [
        "# check for missing values\r\n",
        "df.isnull().sum()"
      ],
      "execution_count": 17,
      "outputs": [
        {
          "output_type": "execute_result",
          "data": {
            "text/plain": [
              "dob                       14\n",
              "gender                     0\n",
              "account                    0\n",
              "branch                     0\n",
              "product                    0\n",
              "loan_principal             0\n",
              "down_payment               0\n",
              "total_amount               0\n",
              "principal                  0\n",
              "total_                     0\n",
              "prepayment                 0\n",
              "loan_officer               0\n",
              "cycle                    693\n",
              "disbursed_date             0\n",
              "installments               0\n",
              "status                     0\n",
              "trp                      203\n",
              "group_id                   0\n",
              "final_payment_date     12752\n",
              "arrear_amount              0\n",
              "age_at_disbursement       14\n",
              "dtype: int64"
            ]
          },
          "metadata": {
            "tags": []
          },
          "execution_count": 17
        }
      ]
    },
    {
      "cell_type": "code",
      "metadata": {
        "id": "ZOiDkpFVD_pB"
      },
      "source": [
        "# Remove missing values\r\n",
        "# Since the missing values are not much, we will remove them\r\n",
        "\r\n",
        "# Dropping the final_payment_date\r\n",
        "df = df.drop(['final_payment_date'], axis=1)"
      ],
      "execution_count": 18,
      "outputs": []
    },
    {
      "cell_type": "code",
      "metadata": {
        "colab": {
          "base_uri": "https://localhost:8080/"
        },
        "id": "xLTy8M9sjT6F",
        "outputId": "c3255f53-2e03-4fed-d5cf-a0c9eca01a00"
      },
      "source": [
        "# Then dropping rows with missing value\r\n",
        "df.dropna(inplace=True)\r\n",
        "df.isnull().sum().sum()"
      ],
      "execution_count": 19,
      "outputs": [
        {
          "output_type": "execute_result",
          "data": {
            "text/plain": [
              "0"
            ]
          },
          "metadata": {
            "tags": []
          },
          "execution_count": 19
        }
      ]
    },
    {
      "cell_type": "code",
      "metadata": {
        "id": "ja8BuYjqD_-c",
        "colab": {
          "base_uri": "https://localhost:8080/"
        },
        "outputId": "880d792d-7fdc-4cb7-8cb3-ca7c6d5b75f4"
      },
      "source": [
        "# check of duplicate values\r\n",
        "df.duplicated().sum()"
      ],
      "execution_count": 20,
      "outputs": [
        {
          "output_type": "execute_result",
          "data": {
            "text/plain": [
              "0"
            ]
          },
          "metadata": {
            "tags": []
          },
          "execution_count": 20
        }
      ]
    },
    {
      "cell_type": "markdown",
      "metadata": {
        "id": "87swmQ2TFa59"
      },
      "source": [
        "## 4. Univariate Analysis "
      ]
    },
    {
      "cell_type": "code",
      "metadata": {
        "id": "pq475iAPIQpc",
        "colab": {
          "base_uri": "https://localhost:8080/"
        },
        "outputId": "f191480b-ef55-42ff-ce59-60520869c392"
      },
      "source": [
        "# Detecting outliers on the loan principal\r\n",
        "\r\n",
        "sns.boxplot(data=df['loan_principal'])"
      ],
      "execution_count": null,
      "outputs": [
        {
          "output_type": "execute_result",
          "data": {
            "text/plain": [
              "<matplotlib.axes._subplots.AxesSubplot at 0x7f63d3426390>"
            ]
          },
          "metadata": {
            "tags": []
          },
          "execution_count": 526
        },
        {
          "output_type": "display_data",
          "data": {
            "image/png": "[encoded data removed]",
            "text/plain": [
              "<Figure size 432x288 with 1 Axes>"
            ]
          },
          "metadata": {
            "tags": []
          }
        }
      ]
    },
    {
      "cell_type": "code",
      "metadata": {
        "id": "qNSGZdRqJO-G",
        "colab": {
          "base_uri": "https://localhost:8080/"
        },
        "outputId": "aa0ce038-523e-48c8-8d80-d20a61a3a901"
      },
      "source": [
        "# Detecting outliers on the down payment\r\n",
        "\r\n",
        "sns.boxplot(data=df['down_payment'])"
      ],
      "execution_count": null,
      "outputs": [
        {
          "output_type": "execute_result",
          "data": {
            "text/plain": [
              "<matplotlib.axes._subplots.AxesSubplot at 0x7f63d16ef390>"
            ]
          },
          "metadata": {
            "tags": []
          },
          "execution_count": 527
        },
        {
          "output_type": "display_data",
          "data": {
            "image/png": "[encoded data removed]",
            "text/plain": [
              "<Figure size 432x288 with 1 Axes>"
            ]
          },
          "metadata": {
            "tags": []
          }
        }
      ]
    },
    {
      "cell_type": "code",
      "metadata": {
        "colab": {
          "base_uri": "https://localhost:8080/",
          "height": 342
        },
        "id": "OOEEQOWviGwA",
        "outputId": "b23ca488-6c65-422a-be5a-db94d2e01a11"
      },
      "source": [
        "# Field: product\r\n",
        "df['product'].value_counts().plot(kind='bar',color='red')\r\n",
        "\r\n",
        "# Labelling our x axis\r\n",
        "plt.xlabel('Product')\r\n",
        "\r\n",
        "# Labelling our y axis\r\n",
        "plt.ylabel(\"No. of clients\")\r\n",
        "\r\n",
        "# Giving a title to our Bar chart\r\n",
        "plt.title(\"Number of clients per product\")"
      ],
      "execution_count": null,
      "outputs": [
        {
          "output_type": "execute_result",
          "data": {
            "text/plain": [
              "Text(0.5, 1.0, 'Number of individuals per product')"
            ]
          },
          "metadata": {
            "tags": []
          },
          "execution_count": 155
        },
        {
          "output_type": "display_data",
          "data": {
            "image/png": "[encoded data removed]",
            "text/plain": [
              "<Figure size 432x288 with 1 Axes>"
            ]
          },
          "metadata": {
            "tags": []
          }
        }
      ]
    },
    {
      "cell_type": "markdown",
      "metadata": {
        "id": "T5sB2iWcn0zB"
      },
      "source": [
        "The product that has been acquired by most clients is 'LPG2' while the product with the smallest number of clients is SLO2."
      ]
    },
    {
      "cell_type": "code",
      "metadata": {
        "colab": {
          "base_uri": "https://localhost:8080/",
          "height": 269
        },
        "id": "zMrfHG1ziG72",
        "outputId": "06c738be-7226-4ae8-b1bc-78baa4e6a366"
      },
      "source": [
        "# # Field: product\r\n",
        "# df['gender'].value_counts().plot(kind='bar',color='red')\r\n",
        "\r\n",
        "# # Labelling our x axis\r\n",
        "# plt.xlabel('Gender')\r\n",
        "\r\n",
        "# # Labelling our y axis\r\n",
        "# plt.ylabel(\"No. of clients\")\r\n",
        "\r\n",
        "# # Giving a title to our Bar chart\r\n",
        "# plt.title(\"Number of clients per gender\")\r\n",
        "\r\n",
        "gender = df.groupby('gender').count()\r\n",
        "\r\n",
        "gender = gender['client_id']\r\n",
        "\r\n",
        "labels = gender.index\r\n",
        "\r\n",
        "# Plotting our pie chart\r\n",
        "plt.pie(gender, explode=None, labels=labels, autopct='%1.1f%%', shadow=True, startangle=140)\r\n",
        "\r\n",
        "plt.axis('equal')\r\n",
        "\r\n",
        "plt.title(\"% of clients' gender\")\r\n",
        "\r\n",
        "plt.show()\r\n"
      ],
      "execution_count": null,
      "outputs": [
        {
          "output_type": "display_data",
          "data": {
            "image/png": "[encoded data removed]",
            "text/plain": [
              "<Figure size 432x288 with 1 Axes>"
            ]
          },
          "metadata": {
            "tags": []
          }
        }
      ]
    },
    {
      "cell_type": "markdown",
      "metadata": {
        "id": "9xhlIYfIJOIk"
      },
      "source": [
        "As part of their strategy, the group targets women. This can be seen in the number of women that have acquired their products."
      ]
    },
    {
      "cell_type": "code",
      "metadata": {
        "colab": {
          "base_uri": "https://localhost:8080/",
          "height": 376
        },
        "id": "arnRwGsqiHJT",
        "outputId": "525eac20-3b72-47bc-c5a7-7fc1d75ec2ac"
      },
      "source": [
        "# Branch\r\n",
        "\r\n",
        "df['branch'].value_counts().plot(kind='bar',color='red')\r\n",
        "\r\n",
        "# Labelling our x axis\r\n",
        "plt.xlabel('Branch/Location')\r\n",
        "\r\n",
        "# Labelling our y axis\r\n",
        "plt.ylabel(\"No. of clients\")\r\n",
        "\r\n",
        "# Giving a title to our Bar chart\r\n",
        "plt.title(\"Number of clients per Branch/Location\")"
      ],
      "execution_count": null,
      "outputs": [
        {
          "output_type": "execute_result",
          "data": {
            "text/plain": [
              "Text(0.5, 1.0, 'Number of clients per Branch/Location')"
            ]
          },
          "metadata": {
            "tags": []
          },
          "execution_count": 286
        },
        {
          "output_type": "display_data",
          "data": {
            "image/png": "[encoded data removed]",
            "text/plain": [
              "<Figure size 432x288 with 1 Axes>"
            ]
          },
          "metadata": {
            "tags": []
          }
        }
      ]
    },
    {
      "cell_type": "markdown",
      "metadata": {
        "id": "0X--tmHjKQmz"
      },
      "source": [
        "Most of the products have been sold to clients in Webuye while Bomet holds the least number of clients."
      ]
    },
    {
      "cell_type": "code",
      "metadata": {
        "colab": {
          "base_uri": "https://localhost:8080/",
          "height": 318
        },
        "id": "HeUjR9gIiHUl",
        "outputId": "f5074925-94a5-4725-c634-55cd53ada427"
      },
      "source": [
        "# Age\r\n",
        "\r\n",
        "num_bins = 4\r\n",
        "\r\n",
        "plt.hist(df['age'], num_bins, histtype=\"bar\", rwidth=2, color='grey')\r\n",
        "\r\n",
        "# Labelling our x axis\r\n",
        "plt.xlabel(\"Age\")\r\n",
        "\r\n",
        "# Labelling our y axis\r\n",
        "plt.ylabel(\"No. of clients\")\r\n",
        "\r\n",
        "# Giving a title to our Bar chart\r\n",
        "plt.title(\"Distribution of clients' age\")"
      ],
      "execution_count": null,
      "outputs": [
        {
          "output_type": "execute_result",
          "data": {
            "text/plain": [
              "Text(0.5, 1.0, \"Distribution of clients' age\")"
            ]
          },
          "metadata": {
            "tags": []
          },
          "execution_count": 291
        },
        {
          "output_type": "display_data",
          "data": {
            "image/png": "[encoded data removed]",
            "text/plain": [
              "<Figure size 432x288 with 1 Axes>"
            ]
          },
          "metadata": {
            "tags": []
          }
        }
      ]
    },
    {
      "cell_type": "markdown",
      "metadata": {
        "id": "4syouCB2kXIf"
      },
      "source": [
        "Most of the Bidhaa Bora clients are aged between 20 and 60 years."
      ]
    },
    {
      "cell_type": "code",
      "metadata": {
        "colab": {
          "base_uri": "https://localhost:8080/",
          "height": 318
        },
        "id": "_A7yo0lHjP78",
        "outputId": "2cd50894-018b-4776-9cfd-2796f7603579"
      },
      "source": [
        "# Number of days in arrears\r\n",
        "\r\n",
        "num_bins = 4\r\n",
        "\r\n",
        "plt.hist(df['days_in_arrears'], num_bins, histtype=\"bar\", rwidth=2, color='grey')\r\n",
        "\r\n",
        "# Labelling our x axis\r\n",
        "plt.xlabel(\"Number of days in arrears\")\r\n",
        "\r\n",
        "# Labelling our y axis\r\n",
        "plt.ylabel(\"No. of clients\")\r\n",
        "\r\n",
        "# Giving a title to our Bar chart\r\n",
        "plt.title(\"Distribution of the number of days in arrears\")"
      ],
      "execution_count": null,
      "outputs": [
        {
          "output_type": "execute_result",
          "data": {
            "text/plain": [
              "Text(0.5, 1.0, 'Distribution of the number of days in arrears')"
            ]
          },
          "metadata": {
            "tags": []
          },
          "execution_count": 296
        },
        {
          "output_type": "display_data",
          "data": {
            "image/png": "[encoded data removed]",
            "text/plain": [
              "<Figure size 432x288 with 1 Axes>"
            ]
          },
          "metadata": {
            "tags": []
          }
        }
      ]
    },
    {
      "cell_type": "markdown",
      "metadata": {
        "id": "U-kEX4fekV8A"
      },
      "source": [
        "Most Bidhaa Bora loans are within the normal range of 0 to 100 number of days in arrears. The institution therefore runs a low risk of losing the money they have lend out to clients."
      ]
    },
    {
      "cell_type": "markdown",
      "metadata": {
        "id": "ss1gPFNrFk1M"
      },
      "source": [
        "## 5. Bivariate Analysis"
      ]
    },
    {
      "cell_type": "code",
      "metadata": {
        "colab": {
          "base_uri": "https://localhost:8080/",
          "height": 378
        },
        "id": "5zHnaAuZiP6U",
        "outputId": "f66f15e8-51fd-4efb-b45e-1c2af1f0c5d4"
      },
      "source": [
        "# Price per product\r\n",
        "\r\n",
        "# Grouping by product and obtaining the mean price foreach product\r\n",
        "prices = df.groupby(['product'])\r\n",
        "mean_price = prices.mean()\r\n",
        "mean_price = mean_price.reset_index()\r\n",
        "\r\n",
        "mean_price = mean_price.sort_values('total_amount', ascending = False).reset_index(drop=True)\r\n",
        "\r\n",
        "# Plotting the average price per product\r\n",
        "fig = plt.figure()\r\n",
        "ax = fig.add_axes([0,0,1,1])\r\n",
        "\r\n",
        "ax.bar(mean_price['product'],mean_price['total_amount'])\r\n",
        "plt.xticks(rotation = 90)\r\n",
        "plt.xlabel('Product')\r\n",
        "plt.ylabel('Price')\r\n",
        "plt.show()\r\n",
        "\r\n"
      ],
      "execution_count": null,
      "outputs": [
        {
          "output_type": "display_data",
          "data": {
            "image/png": "[encoded data removed]",
            "text/plain": [
              "<Figure size 432x288 with 1 Axes>"
            ]
          },
          "metadata": {
            "tags": []
          }
        }
      ]
    },
    {
      "cell_type": "code",
      "metadata": {
        "id": "EfaDu8MOCLXV"
      },
      "source": [
        "# Classifying the ages\r\n",
        "# create a list of our conditions\r\n",
        "conditions = [\r\n",
        "    (df['age'] <= 20),\r\n",
        "    (df['age'] > 20) & (df['age'] <=40),\r\n",
        "    (df['age'] > 41) & (df['age'] <= 60),\r\n",
        "    (df['age'] > 61)\r\n",
        "    ]\r\n",
        "\r\n",
        "# create a list of the values we want to assign for each condition\r\n",
        "values = ['Less than 20 years', '21 to 40 years', '41 to 60 years','More than 60 years']\r\n",
        "\r\n",
        "# create a new column and use np.select to assign values to it using our lists as arguments\r\n",
        "df['age_group'] = np.select(conditions, values)\r\n",
        "\r\n",
        "# Grouping by age and obtaining the number of clients per age group\r\n",
        "clients_per_age = df.groupby(['age_group'])\r\n",
        "\r\n",
        "total_clients_per_age = clients_per_age.count()\r\n",
        "\r\n",
        "total_clients_per_age = total_clients_per_age.reset_index()"
      ],
      "execution_count": null,
      "outputs": []
    },
    {
      "cell_type": "code",
      "metadata": {
        "id": "iTR3ftLJvv0M",
        "colab": {
          "base_uri": "https://localhost:8080/",
          "height": 452
        },
        "outputId": "d4c16dc4-7359-450b-fd52-2d97c70cce6a"
      },
      "source": [
        "# ****clients with arrears****\r\n",
        "has_arrears= df[(df['status'] != 'Closed') & (df['status'] != 'Active')]\r\n",
        "\r\n",
        "# Female clients with bank accounts\r\n",
        "has_arrears_female = has_arrears[has_arrears['gender'] == 'Female']\r\n",
        "\r\n",
        "# Male clients with bank accounts\r\n",
        "has_arrears_male = has_arrears[has_arrears['gender'] == 'Male']\r\n",
        "\r\n",
        "# Number of females with arrears\r\n",
        "number_has_arrears_female = pd.DataFrame(has_arrears_female['gender'].value_counts())\r\n",
        "number_has_arrears_female.columns = ['Has arrears']\r\n",
        "\r\n",
        "# Number of males with arrears\r\n",
        "number_has_arrears_male = pd.DataFrame(has_arrears_male['gender'].value_counts())\r\n",
        "number_has_arrears_male.columns = ['Has arrears']\r\n",
        "\r\n",
        "has_arrears_combined = pd.concat([number_has_arrears_male, number_has_arrears_female])\r\n",
        "has_arrears_combined\r\n",
        "\r\n",
        "\r\n",
        "\r\n",
        "# ****clients without arrears****\r\n",
        "has_no_arrears= df[(df['status'] == 'Closed') | (df['status'] == 'Active')]\r\n",
        "\r\n",
        "# Female clients with bank accounts\r\n",
        "has_no_arrears_female = has_no_arrears[has_no_arrears['gender'] == 'Female']\r\n",
        "\r\n",
        "# Male clients with bank accounts\r\n",
        "has_no_arrears_male = has_no_arrears[has_no_arrears['gender'] == 'Male']\r\n",
        "\r\n",
        "# Number of females with arrears\r\n",
        "number_has_no_arrears_female = pd.DataFrame(has_no_arrears_female['gender'].value_counts())\r\n",
        "number_has_no_arrears_female.columns = ['Has no arrears']\r\n",
        "\r\n",
        "# Number of males with arrears\r\n",
        "number_has_no_arrears_male = pd.DataFrame(has_no_arrears_male['gender'].value_counts())\r\n",
        "number_has_no_arrears_male.columns = ['Has no arrears']\r\n",
        "\r\n",
        "has_no_arrears_combined = pd.concat([number_has_no_arrears_female, number_has_no_arrears_male])\r\n",
        "\r\n",
        "# merge the dataframes with and without bank accounts\r\n",
        "has_arrears_combined['unique_identifier'] = has_arrears_combined.index\r\n",
        "has_no_arrears_combined['unique_identifier'] = has_no_arrears_combined.index\r\n",
        "\r\n",
        "full_arrears_dataset = has_arrears_combined.merge(has_no_arrears_combined , how='inner')\r\n",
        "full_arrears_dataset.index = full_arrears_dataset['unique_identifier']\r\n",
        "\r\n",
        "del full_arrears_dataset['unique_identifier']\r\n",
        "\r\n",
        "\r\n",
        "\r\n",
        "# ****Stacked bar charts****\r\n",
        "full_arrears_dataset[['Has arrears', 'Has no arrears']].plot(kind='bar', figsize=(8, 6), stacked=True)\r\n",
        "\r\n",
        "# Rotating our x axis ticks\r\n",
        "plt.xticks(rotation = 45)\r\n",
        "\r\n",
        "# Giving our chart a title\r\n",
        "plt.title(\"Distribution of Female and Male clients with arrears\", fontsize=14, y=1.015)\r\n",
        "\r\n",
        "# Labeling our y axis\r\n",
        "plt.ylabel(\"No. of clients\", fontsize=14, labelpad=15)\r\n",
        "\r\n",
        "# Labeling our x axis\r\n",
        "plt.xlabel(\"Gender\", fontsize=14, labelpad=15)\r\n",
        "\r\n",
        "# Displaying our chart\r\n",
        "plt.show()"
      ],
      "execution_count": null,
      "outputs": [
        {
          "output_type": "display_data",
          "data": {
            "image/png": "[encoded data removed]",
            "text/plain": [
              "<Figure size 576x432 with 1 Axes>"
            ]
          },
          "metadata": {
            "tags": []
          }
        }
      ]
    },
    {
      "cell_type": "code",
      "metadata": {
        "colab": {
          "base_uri": "https://localhost:8080/",
          "height": 378
        },
        "id": "DU4ivaHfCPmM",
        "outputId": "152a1981-045a-4938-8145-50e9f6ec8b17"
      },
      "source": [
        "# Repayment per product\r\n",
        "# Grouping by product and obtaining the mean price foreach product\r\n",
        "df['trp'] = df['trp'].str.replace('%','')\r\n",
        "df['trp'] = df['trp'].astype(float)\r\n",
        "\r\n",
        "repayment_behavior = df.groupby(['product'])\r\n",
        "mean_repayment_behavior = repayment_behavior.mean()\r\n",
        "mean_repayment_behavior = mean_repayment_behavior.reset_index()\r\n",
        "\r\n",
        "mean_repayment_behavior = mean_repayment_behavior.sort_values('trp', ascending = False).reset_index(drop=True)\r\n",
        "\r\n",
        "# Plotting the average price per product\r\n",
        "fig = plt.figure()\r\n",
        "ax = fig.add_axes([0,0,1,1])\r\n",
        "\r\n",
        "ax.bar(mean_repayment_behavior['product'],mean_repayment_behavior['trp'])\r\n",
        "plt.xticks(rotation = 90)\r\n",
        "plt.xlabel('Product')\r\n",
        "plt.ylabel('Repayment_behavior')\r\n",
        "plt.show()"
      ],
      "execution_count": null,
      "outputs": [
        {
          "output_type": "display_data",
          "data": {
            "image/png": "[encoded data removed]",
            "text/plain": [
              "<Figure size 432x288 with 1 Axes>"
            ]
          },
          "metadata": {
            "tags": []
          }
        }
      ]
    },
    {
      "cell_type": "markdown",
      "metadata": {
        "id": "JnsgQGhFFqjt"
      },
      "source": [
        "## 6. Multivariate Analysis"
      ]
    },
    {
      "cell_type": "markdown",
      "metadata": {
        "id": "S5I7G6-eFadP"
      },
      "source": [
        "### Principal Component Analysis"
      ]
    },
    {
      "cell_type": "code",
      "metadata": {
        "id": "qBOxP53DOAul",
        "colab": {
          "base_uri": "https://localhost:8080/",
          "height": 394
        },
        "outputId": "4ae5693a-1ef1-466f-c179-026e2e6a8c26"
      },
      "source": [
        "# replace whitespace with underscore\r\n",
        "df.columns=df.columns.str.replace(' ','_')\r\n",
        "# change to lowercases\r\n",
        "df.columns=map(str.lower,df.columns)\r\n",
        "# drop irrelevant columns\r\n",
        "df.drop(['unnamed:_0','client_name','id_card','interest','principal','loan_frequency_2','interest.1'],axis = 1,inplace=True) \r\n",
        "df.head()"
      ],
      "execution_count": null,
      "outputs": [
        {
          "output_type": "execute_result",
          "data": {
            "text/html": [
              "<div>\n",
              "<style scoped>\n",
              "    .dataframe tbody tr th:only-of-type {\n",
              "        vertical-align: middle;\n",
              "    }\n",
              "\n",
              "    .dataframe tbody tr th {\n",
              "        vertical-align: top;\n",
              "    }\n",
              "\n",
              "    .dataframe thead th {\n",
              "        text-align: right;\n",
              "    }\n",
              "</style>\n",
              "<table border=\"1\" class=\"dataframe\">\n",
              "  <thead>\n",
              "    <tr style=\"text-align: right;\">\n",
              "      <th></th>\n",
              "      <th>client_id</th>\n",
              "      <th>dob</th>\n",
              "      <th>gender</th>\n",
              "      <th>account</th>\n",
              "      <th>branch</th>\n",
              "      <th>product</th>\n",
              "      <th>loan_principal</th>\n",
              "      <th>down_payment</th>\n",
              "      <th>total_amount</th>\n",
              "      <th>fees</th>\n",
              "      <th>total_</th>\n",
              "      <th>prepayment</th>\n",
              "      <th>loan_officer</th>\n",
              "      <th>cycle</th>\n",
              "      <th>disbursed_date</th>\n",
              "      <th>installments</th>\n",
              "      <th>loan_frequency</th>\n",
              "      <th>status</th>\n",
              "      <th>trp</th>\n",
              "      <th>group_id</th>\n",
              "      <th>final_payment_date</th>\n",
              "      <th>arrear_amount</th>\n",
              "      <th>days_in_arrears</th>\n",
              "    </tr>\n",
              "  </thead>\n",
              "  <tbody>\n",
              "    <tr>\n",
              "      <th>0</th>\n",
              "      <td>0008-0056-17323</td>\n",
              "      <td>1/1/1965</td>\n",
              "      <td>Female</td>\n",
              "      <td>18876</td>\n",
              "      <td>Vihiga</td>\n",
              "      <td>BORA</td>\n",
              "      <td>4,900.00</td>\n",
              "      <td>700</td>\n",
              "      <td>5,600.00</td>\n",
              "      <td>0</td>\n",
              "      <td>0</td>\n",
              "      <td>0</td>\n",
              "      <td>Anthony</td>\n",
              "      <td>1.0</td>\n",
              "      <td>1/9/2019</td>\n",
              "      <td>7</td>\n",
              "      <td>1</td>\n",
              "      <td>Closed</td>\n",
              "      <td>71.40%</td>\n",
              "      <td>17073</td>\n",
              "      <td>8/3/2019</td>\n",
              "      <td>0</td>\n",
              "      <td>NaN</td>\n",
              "    </tr>\n",
              "    <tr>\n",
              "      <th>1</th>\n",
              "      <td>0008-0056-17324</td>\n",
              "      <td>5/15/1953</td>\n",
              "      <td>Female</td>\n",
              "      <td>18877</td>\n",
              "      <td>Vihiga</td>\n",
              "      <td>BORA</td>\n",
              "      <td>4,900.00</td>\n",
              "      <td>700</td>\n",
              "      <td>5,600.00</td>\n",
              "      <td>0</td>\n",
              "      <td>0</td>\n",
              "      <td>0</td>\n",
              "      <td>Anthony</td>\n",
              "      <td>1.0</td>\n",
              "      <td>1/9/2019</td>\n",
              "      <td>7</td>\n",
              "      <td>1</td>\n",
              "      <td>Closed</td>\n",
              "      <td>100%</td>\n",
              "      <td>17073</td>\n",
              "      <td>3/12/2019</td>\n",
              "      <td>0</td>\n",
              "      <td>NaN</td>\n",
              "    </tr>\n",
              "    <tr>\n",
              "      <th>2</th>\n",
              "      <td>0008-0056-17326</td>\n",
              "      <td>1/1/1954</td>\n",
              "      <td>Female</td>\n",
              "      <td>18879</td>\n",
              "      <td>Vihiga</td>\n",
              "      <td>BORA</td>\n",
              "      <td>4,900.00</td>\n",
              "      <td>700</td>\n",
              "      <td>5,600.00</td>\n",
              "      <td>0</td>\n",
              "      <td>0</td>\n",
              "      <td>0</td>\n",
              "      <td>Anthony</td>\n",
              "      <td>1.0</td>\n",
              "      <td>1/9/2019</td>\n",
              "      <td>7</td>\n",
              "      <td>1</td>\n",
              "      <td>Closed</td>\n",
              "      <td>14.30%</td>\n",
              "      <td>17073</td>\n",
              "      <td>8/8/2019</td>\n",
              "      <td>0</td>\n",
              "      <td>NaN</td>\n",
              "    </tr>\n",
              "    <tr>\n",
              "      <th>3</th>\n",
              "      <td>0008-0056-17327</td>\n",
              "      <td>12/30/1986</td>\n",
              "      <td>Female</td>\n",
              "      <td>18880</td>\n",
              "      <td>Vihiga</td>\n",
              "      <td>BORA</td>\n",
              "      <td>4,900.00</td>\n",
              "      <td>700</td>\n",
              "      <td>5,600.00</td>\n",
              "      <td>0</td>\n",
              "      <td>0</td>\n",
              "      <td>0</td>\n",
              "      <td>Anthony</td>\n",
              "      <td>1.0</td>\n",
              "      <td>1/9/2019</td>\n",
              "      <td>7</td>\n",
              "      <td>1</td>\n",
              "      <td>Closed</td>\n",
              "      <td>14.30%</td>\n",
              "      <td>17073</td>\n",
              "      <td>8/8/2019</td>\n",
              "      <td>0</td>\n",
              "      <td>NaN</td>\n",
              "    </tr>\n",
              "    <tr>\n",
              "      <th>4</th>\n",
              "      <td>0008-0056-17328</td>\n",
              "      <td>1/2/1978</td>\n",
              "      <td>Male</td>\n",
              "      <td>18881</td>\n",
              "      <td>Vihiga</td>\n",
              "      <td>BORA</td>\n",
              "      <td>4,900.00</td>\n",
              "      <td>700</td>\n",
              "      <td>5,600.00</td>\n",
              "      <td>0</td>\n",
              "      <td>0</td>\n",
              "      <td>0</td>\n",
              "      <td>Anthony</td>\n",
              "      <td>1.0</td>\n",
              "      <td>1/9/2019</td>\n",
              "      <td>7</td>\n",
              "      <td>1</td>\n",
              "      <td>Closed</td>\n",
              "      <td>100%</td>\n",
              "      <td>17073</td>\n",
              "      <td>8/1/2019</td>\n",
              "      <td>0</td>\n",
              "      <td>NaN</td>\n",
              "    </tr>\n",
              "  </tbody>\n",
              "</table>\n",
              "</div>"
            ],
            "text/plain": [
              "         client_id         dob  ... arrear_amount  days_in_arrears\n",
              "0  0008-0056-17323    1/1/1965  ...             0              NaN\n",
              "1  0008-0056-17324   5/15/1953  ...             0              NaN\n",
              "2  0008-0056-17326    1/1/1954  ...             0              NaN\n",
              "3  0008-0056-17327  12/30/1986  ...             0              NaN\n",
              "4  0008-0056-17328    1/2/1978  ...             0              NaN\n",
              "\n",
              "[5 rows x 23 columns]"
            ]
          },
          "metadata": {
            "tags": []
          },
          "execution_count": 3
        }
      ]
    },
    {
      "cell_type": "code",
      "metadata": {
        "id": "YYtk32UPN8my",
        "colab": {
          "base_uri": "https://localhost:8080/",
          "height": 199
        },
        "outputId": "32dc5d20-40f1-41b3-9f59-01940433385e"
      },
      "source": [
        "# Remove commas and Percentage in the values\r\n",
        "df.replace(',','', regex=True, inplace=True)\r\n",
        "df.replace('%','', regex=True, inplace=True)\r\n",
        "\r\n",
        "# renaming columns \r\n",
        "df.rename(columns={'trp':'trp_in_percentage'},inplace=True)\r\n",
        "df['group_id'].replace({'Failed Formation Meeting': '9737'}, inplace=True)\r\n",
        "df.head(2)"
      ],
      "execution_count": null,
      "outputs": [
        {
          "output_type": "execute_result",
          "data": {
            "text/html": [
              "<div>\n",
              "<style scoped>\n",
              "    .dataframe tbody tr th:only-of-type {\n",
              "        vertical-align: middle;\n",
              "    }\n",
              "\n",
              "    .dataframe tbody tr th {\n",
              "        vertical-align: top;\n",
              "    }\n",
              "\n",
              "    .dataframe thead th {\n",
              "        text-align: right;\n",
              "    }\n",
              "</style>\n",
              "<table border=\"1\" class=\"dataframe\">\n",
              "  <thead>\n",
              "    <tr style=\"text-align: right;\">\n",
              "      <th></th>\n",
              "      <th>client_id</th>\n",
              "      <th>dob</th>\n",
              "      <th>gender</th>\n",
              "      <th>account</th>\n",
              "      <th>branch</th>\n",
              "      <th>product</th>\n",
              "      <th>loan_principal</th>\n",
              "      <th>down_payment</th>\n",
              "      <th>total_amount</th>\n",
              "      <th>fees</th>\n",
              "      <th>total_</th>\n",
              "      <th>prepayment</th>\n",
              "      <th>loan_officer</th>\n",
              "      <th>cycle</th>\n",
              "      <th>disbursed_date</th>\n",
              "      <th>installments</th>\n",
              "      <th>loan_frequency</th>\n",
              "      <th>status</th>\n",
              "      <th>trp_in_percentage</th>\n",
              "      <th>group_id</th>\n",
              "      <th>final_payment_date</th>\n",
              "      <th>arrear_amount</th>\n",
              "      <th>days_in_arrears</th>\n",
              "    </tr>\n",
              "  </thead>\n",
              "  <tbody>\n",
              "    <tr>\n",
              "      <th>0</th>\n",
              "      <td>0008-0056-17323</td>\n",
              "      <td>1/1/1965</td>\n",
              "      <td>Female</td>\n",
              "      <td>18876</td>\n",
              "      <td>Vihiga</td>\n",
              "      <td>BORA</td>\n",
              "      <td>4900.00</td>\n",
              "      <td>700</td>\n",
              "      <td>5600.00</td>\n",
              "      <td>0</td>\n",
              "      <td>0</td>\n",
              "      <td>0</td>\n",
              "      <td>Anthony</td>\n",
              "      <td>1.0</td>\n",
              "      <td>1/9/2019</td>\n",
              "      <td>7</td>\n",
              "      <td>1</td>\n",
              "      <td>Closed</td>\n",
              "      <td>71.40</td>\n",
              "      <td>17073</td>\n",
              "      <td>8/3/2019</td>\n",
              "      <td>0</td>\n",
              "      <td>NaN</td>\n",
              "    </tr>\n",
              "    <tr>\n",
              "      <th>1</th>\n",
              "      <td>0008-0056-17324</td>\n",
              "      <td>5/15/1953</td>\n",
              "      <td>Female</td>\n",
              "      <td>18877</td>\n",
              "      <td>Vihiga</td>\n",
              "      <td>BORA</td>\n",
              "      <td>4900.00</td>\n",
              "      <td>700</td>\n",
              "      <td>5600.00</td>\n",
              "      <td>0</td>\n",
              "      <td>0</td>\n",
              "      <td>0</td>\n",
              "      <td>Anthony</td>\n",
              "      <td>1.0</td>\n",
              "      <td>1/9/2019</td>\n",
              "      <td>7</td>\n",
              "      <td>1</td>\n",
              "      <td>Closed</td>\n",
              "      <td>100</td>\n",
              "      <td>17073</td>\n",
              "      <td>3/12/2019</td>\n",
              "      <td>0</td>\n",
              "      <td>NaN</td>\n",
              "    </tr>\n",
              "  </tbody>\n",
              "</table>\n",
              "</div>"
            ],
            "text/plain": [
              "         client_id        dob  ... arrear_amount  days_in_arrears\n",
              "0  0008-0056-17323   1/1/1965  ...             0              NaN\n",
              "1  0008-0056-17324  5/15/1953  ...             0              NaN\n",
              "\n",
              "[2 rows x 23 columns]"
            ]
          },
          "metadata": {
            "tags": []
          },
          "execution_count": 4
        }
      ]
    },
    {
      "cell_type": "code",
      "metadata": {
        "id": "8LyaLAp3Nk6M",
        "colab": {
          "base_uri": "https://localhost:8080/",
          "height": 394
        },
        "outputId": "f9c9252e-c4a8-4de6-d7c9-c387bcb53503"
      },
      "source": [
        "# label encoding the data \r\n",
        "from sklearn.preprocessing import LabelEncoder \r\n",
        "  \r\n",
        "le = LabelEncoder() \r\n",
        "  \r\n",
        "df['gender']= le.fit_transform(df['gender']) \r\n",
        "df['branch']= le.fit_transform(df['branch']) \r\n",
        "df['product']= le.fit_transform(df['product']) \r\n",
        "df['loan_officer']= le.fit_transform(df['loan_officer']) \r\n",
        "\r\n",
        "df.head()"
      ],
      "execution_count": null,
      "outputs": [
        {
          "output_type": "execute_result",
          "data": {
            "text/html": [
              "<div>\n",
              "<style scoped>\n",
              "    .dataframe tbody tr th:only-of-type {\n",
              "        vertical-align: middle;\n",
              "    }\n",
              "\n",
              "    .dataframe tbody tr th {\n",
              "        vertical-align: top;\n",
              "    }\n",
              "\n",
              "    .dataframe thead th {\n",
              "        text-align: right;\n",
              "    }\n",
              "</style>\n",
              "<table border=\"1\" class=\"dataframe\">\n",
              "  <thead>\n",
              "    <tr style=\"text-align: right;\">\n",
              "      <th></th>\n",
              "      <th>client_id</th>\n",
              "      <th>dob</th>\n",
              "      <th>gender</th>\n",
              "      <th>account</th>\n",
              "      <th>branch</th>\n",
              "      <th>product</th>\n",
              "      <th>loan_principal</th>\n",
              "      <th>down_payment</th>\n",
              "      <th>total_amount</th>\n",
              "      <th>fees</th>\n",
              "      <th>total_</th>\n",
              "      <th>prepayment</th>\n",
              "      <th>loan_officer</th>\n",
              "      <th>cycle</th>\n",
              "      <th>disbursed_date</th>\n",
              "      <th>installments</th>\n",
              "      <th>loan_frequency</th>\n",
              "      <th>status</th>\n",
              "      <th>trp_in_percentage</th>\n",
              "      <th>group_id</th>\n",
              "      <th>final_payment_date</th>\n",
              "      <th>arrear_amount</th>\n",
              "      <th>days_in_arrears</th>\n",
              "    </tr>\n",
              "  </thead>\n",
              "  <tbody>\n",
              "    <tr>\n",
              "      <th>0</th>\n",
              "      <td>0008-0056-17323</td>\n",
              "      <td>1/1/1965</td>\n",
              "      <td>0</td>\n",
              "      <td>18876</td>\n",
              "      <td>5</td>\n",
              "      <td>2</td>\n",
              "      <td>4900.00</td>\n",
              "      <td>700</td>\n",
              "      <td>5600.00</td>\n",
              "      <td>0</td>\n",
              "      <td>0</td>\n",
              "      <td>0</td>\n",
              "      <td>1</td>\n",
              "      <td>1.0</td>\n",
              "      <td>1/9/2019</td>\n",
              "      <td>7</td>\n",
              "      <td>1</td>\n",
              "      <td>Closed</td>\n",
              "      <td>71.40</td>\n",
              "      <td>17073</td>\n",
              "      <td>8/3/2019</td>\n",
              "      <td>0</td>\n",
              "      <td>NaN</td>\n",
              "    </tr>\n",
              "    <tr>\n",
              "      <th>1</th>\n",
              "      <td>0008-0056-17324</td>\n",
              "      <td>5/15/1953</td>\n",
              "      <td>0</td>\n",
              "      <td>18877</td>\n",
              "      <td>5</td>\n",
              "      <td>2</td>\n",
              "      <td>4900.00</td>\n",
              "      <td>700</td>\n",
              "      <td>5600.00</td>\n",
              "      <td>0</td>\n",
              "      <td>0</td>\n",
              "      <td>0</td>\n",
              "      <td>1</td>\n",
              "      <td>1.0</td>\n",
              "      <td>1/9/2019</td>\n",
              "      <td>7</td>\n",
              "      <td>1</td>\n",
              "      <td>Closed</td>\n",
              "      <td>100</td>\n",
              "      <td>17073</td>\n",
              "      <td>3/12/2019</td>\n",
              "      <td>0</td>\n",
              "      <td>NaN</td>\n",
              "    </tr>\n",
              "    <tr>\n",
              "      <th>2</th>\n",
              "      <td>0008-0056-17326</td>\n",
              "      <td>1/1/1954</td>\n",
              "      <td>0</td>\n",
              "      <td>18879</td>\n",
              "      <td>5</td>\n",
              "      <td>2</td>\n",
              "      <td>4900.00</td>\n",
              "      <td>700</td>\n",
              "      <td>5600.00</td>\n",
              "      <td>0</td>\n",
              "      <td>0</td>\n",
              "      <td>0</td>\n",
              "      <td>1</td>\n",
              "      <td>1.0</td>\n",
              "      <td>1/9/2019</td>\n",
              "      <td>7</td>\n",
              "      <td>1</td>\n",
              "      <td>Closed</td>\n",
              "      <td>14.30</td>\n",
              "      <td>17073</td>\n",
              "      <td>8/8/2019</td>\n",
              "      <td>0</td>\n",
              "      <td>NaN</td>\n",
              "    </tr>\n",
              "    <tr>\n",
              "      <th>3</th>\n",
              "      <td>0008-0056-17327</td>\n",
              "      <td>12/30/1986</td>\n",
              "      <td>0</td>\n",
              "      <td>18880</td>\n",
              "      <td>5</td>\n",
              "      <td>2</td>\n",
              "      <td>4900.00</td>\n",
              "      <td>700</td>\n",
              "      <td>5600.00</td>\n",
              "      <td>0</td>\n",
              "      <td>0</td>\n",
              "      <td>0</td>\n",
              "      <td>1</td>\n",
              "      <td>1.0</td>\n",
              "      <td>1/9/2019</td>\n",
              "      <td>7</td>\n",
              "      <td>1</td>\n",
              "      <td>Closed</td>\n",
              "      <td>14.30</td>\n",
              "      <td>17073</td>\n",
              "      <td>8/8/2019</td>\n",
              "      <td>0</td>\n",
              "      <td>NaN</td>\n",
              "    </tr>\n",
              "    <tr>\n",
              "      <th>4</th>\n",
              "      <td>0008-0056-17328</td>\n",
              "      <td>1/2/1978</td>\n",
              "      <td>1</td>\n",
              "      <td>18881</td>\n",
              "      <td>5</td>\n",
              "      <td>2</td>\n",
              "      <td>4900.00</td>\n",
              "      <td>700</td>\n",
              "      <td>5600.00</td>\n",
              "      <td>0</td>\n",
              "      <td>0</td>\n",
              "      <td>0</td>\n",
              "      <td>1</td>\n",
              "      <td>1.0</td>\n",
              "      <td>1/9/2019</td>\n",
              "      <td>7</td>\n",
              "      <td>1</td>\n",
              "      <td>Closed</td>\n",
              "      <td>100</td>\n",
              "      <td>17073</td>\n",
              "      <td>8/1/2019</td>\n",
              "      <td>0</td>\n",
              "      <td>NaN</td>\n",
              "    </tr>\n",
              "  </tbody>\n",
              "</table>\n",
              "</div>"
            ],
            "text/plain": [
              "         client_id         dob  ...  arrear_amount  days_in_arrears\n",
              "0  0008-0056-17323    1/1/1965  ...              0              NaN\n",
              "1  0008-0056-17324   5/15/1953  ...              0              NaN\n",
              "2  0008-0056-17326    1/1/1954  ...              0              NaN\n",
              "3  0008-0056-17327  12/30/1986  ...              0              NaN\n",
              "4  0008-0056-17328    1/2/1978  ...              0              NaN\n",
              "\n",
              "[5 rows x 23 columns]"
            ]
          },
          "metadata": {
            "tags": []
          },
          "execution_count": 5
        }
      ]
    },
    {
      "cell_type": "code",
      "metadata": {
        "id": "NBMvStwtNgIx",
        "colab": {
          "base_uri": "https://localhost:8080/"
        },
        "outputId": "73aa9e7e-313a-466d-8b73-d871334eec66"
      },
      "source": [
        "df.isnull().sum()"
      ],
      "execution_count": null,
      "outputs": [
        {
          "output_type": "execute_result",
          "data": {
            "text/plain": [
              "client_id                 0\n",
              "dob                      12\n",
              "gender                    0\n",
              "account                   0\n",
              "branch                    0\n",
              "product                   0\n",
              "loan_principal            0\n",
              "down_payment              0\n",
              "total_amount              0\n",
              "fees                      0\n",
              "total_                    0\n",
              "prepayment                0\n",
              "loan_officer              0\n",
              "cycle                   693\n",
              "disbursed_date            0\n",
              "installments              0\n",
              "loan_frequency            0\n",
              "status                    0\n",
              "trp_in_percentage         0\n",
              "group_id                  0\n",
              "final_payment_date     6235\n",
              "arrear_amount             1\n",
              "days_in_arrears       20959\n",
              "dtype: int64"
            ]
          },
          "metadata": {
            "tags": []
          },
          "execution_count": 6
        }
      ]
    },
    {
      "cell_type": "code",
      "metadata": {
        "id": "5GtLGEroNaei",
        "colab": {
          "base_uri": "https://localhost:8080/"
        },
        "outputId": "de826005-b103-46a5-a73a-cf9f59ccbaaf"
      },
      "source": [
        "# replacing na values in days_in_arrears with 0 \r\n",
        "df[\"days_in_arrears\"].fillna(0, inplace = True) \r\n",
        "# \r\n",
        "# replace null with forward filling\r\n",
        "df.fillna(method='ffill', inplace=True)\r\n",
        "df.isnull().sum()"
      ],
      "execution_count": null,
      "outputs": [
        {
          "output_type": "execute_result",
          "data": {
            "text/plain": [
              "client_id             0\n",
              "dob                   0\n",
              "gender                0\n",
              "account               0\n",
              "branch                0\n",
              "product               0\n",
              "loan_principal        0\n",
              "down_payment          0\n",
              "total_amount          0\n",
              "fees                  0\n",
              "total_                0\n",
              "prepayment            0\n",
              "loan_officer          0\n",
              "cycle                 0\n",
              "disbursed_date        0\n",
              "installments          0\n",
              "loan_frequency        0\n",
              "status                0\n",
              "trp_in_percentage     0\n",
              "group_id              0\n",
              "final_payment_date    0\n",
              "arrear_amount         0\n",
              "days_in_arrears       0\n",
              "dtype: int64"
            ]
          },
          "metadata": {
            "tags": []
          },
          "execution_count": 7
        }
      ]
    },
    {
      "cell_type": "code",
      "metadata": {
        "id": "r8s6V2-iNW7z"
      },
      "source": [
        "#  Preprocessing\r\n",
        "\r\n",
        "# \r\n",
        "X = df.drop(['final_payment_date','dob','disbursed_date','client_id','status','group_id','loan_frequency'], 1)\r\n",
        "y = df['status']"
      ],
      "execution_count": null,
      "outputs": []
    },
    {
      "cell_type": "code",
      "metadata": {
        "id": "fWd1_nWzFKuJ"
      },
      "source": [
        "# Preprocessing\r\n",
        "# \r\n",
        "# \r\n",
        "# X = df.drop(['client_id','dob','gender','account','branch','product','loan_officer','disbursed_date','final_payment_date','loan_frequency_2','status'], 1)\r\n",
        "# y = df['gender']\r\n",
        "X = thelist.drop(['product'], 1)\r\n",
        "y = thelist['product']"
      ],
      "execution_count": null,
      "outputs": []
    },
    {
      "cell_type": "code",
      "metadata": {
        "id": "XPaDF0u-HQPj"
      },
      "source": [
        "#Splitting the dataset into the Training set and Test set\r\n",
        "#\r\n",
        "from sklearn.model_selection import train_test_split\r\n",
        "\r\n",
        "X_train, X_test, y_train, y_test = train_test_split(X, y, test_size=0.2, random_state=0)"
      ],
      "execution_count": null,
      "outputs": []
    },
    {
      "cell_type": "code",
      "metadata": {
        "id": "_YkBEnmYHZtv"
      },
      "source": [
        "# Normalization\r\n",
        "# PCA performs best with a normalized feature set. \r\n",
        "# standard scalar normalization to normalize our feature set. \r\n",
        "# \r\n",
        "from sklearn.preprocessing import StandardScaler\r\n",
        "\r\n",
        "sc = StandardScaler()\r\n",
        "X_train = sc.fit_transform(X_train)\r\n",
        "X_test = sc.transform(X_test)"
      ],
      "execution_count": null,
      "outputs": []
    },
    {
      "cell_type": "code",
      "metadata": {
        "id": "qG41-oegHsAy"
      },
      "source": [
        "#Applying PCA\r\n",
        "# \r\n",
        "from sklearn.decomposition import PCA\r\n",
        "\r\n",
        "pca = PCA()\r\n",
        "X_train = pca.fit_transform(X_train)\r\n",
        "X_test = pca.transform(X_test)"
      ],
      "execution_count": null,
      "outputs": []
    },
    {
      "cell_type": "code",
      "metadata": {
        "id": "xisvIzC0H4Xn",
        "colab": {
          "base_uri": "https://localhost:8080/"
        },
        "outputId": "d9a0f2ca-58e7-4506-cffc-97556310608f"
      },
      "source": [
        "# Explained Variance Ratio\r\n",
        "# The PCA class contains explained_variance_ratio_ which returns the variance caused by each of the principal components. \r\n",
        "# \r\n",
        "# \r\n",
        "explained_variance = pca.explained_variance_ratio_\r\n",
        "\r\n",
        "# The explained_variance variable is now a float type array which contains variance ratios for each principal component. \r\n",
        "# The values for the explained_variance variable looks like what is shown in the output. \r\n",
        "# It can be seen that first principal component is responsible for 72.22% variance. \r\n",
        "# Similarly, the second principal component causes 23.9% variance in the dataset. \r\n",
        "# Collectively we can say that (72.22 + 23.9) 96.21% percent of the classification information contained \r\n",
        "# in the feature set is captured by the first two principal components.\r\n",
        "explained_variance"
      ],
      "execution_count": null,
      "outputs": [
        {
          "output_type": "execute_result",
          "data": {
            "text/plain": [
              "array([2.27245350e-01, 1.50247278e-01, 1.14560578e-01, 8.12286650e-02,\n",
              "       6.98548412e-02, 6.87613901e-02, 6.12648161e-02, 6.05105699e-02,\n",
              "       5.61928359e-02, 4.82563827e-02, 2.49483211e-02, 2.10514919e-02,\n",
              "       1.14756239e-02, 4.40185640e-03, 9.34296759e-33, 1.34043458e-34])"
            ]
          },
          "metadata": {
            "tags": []
          },
          "execution_count": 16
        }
      ]
    },
    {
      "cell_type": "code",
      "metadata": {
        "id": "nDCXFPv0IZY6"
      },
      "source": [
        "# Using 1 Principal Component\r\n",
        "# Let's first try to use 1 principal component to train our algorithm. To do so, execute the following code:\r\n",
        "# \r\n",
        "from sklearn.decomposition import PCA\r\n",
        "\r\n",
        "pca = PCA(n_components=1)\r\n",
        "X_train = pca.fit_transform(X_train)\r\n",
        "X_test = pca.transform(X_test)"
      ],
      "execution_count": null,
      "outputs": []
    },
    {
      "cell_type": "code",
      "metadata": {
        "id": "p7qDD56-IpDI"
      },
      "source": [
        "# Step 9: Training and Making Predictions\r\n",
        "# In this case we'll use random forest classification for making the predictions.\r\n",
        "# \r\n",
        "from sklearn.ensemble import RandomForestClassifier\r\n",
        "\r\n",
        "classifier = RandomForestClassifier(max_depth=2, random_state=0)\r\n",
        "classifier.fit(X_train, y_train)\r\n",
        "\r\n",
        "# Predicting the Test set results\r\n",
        "y_pred = classifier.predict(X_test)"
      ],
      "execution_count": null,
      "outputs": []
    },
    {
      "cell_type": "code",
      "metadata": {
        "id": "Cb94N_9zIzN9",
        "colab": {
          "base_uri": "https://localhost:8080/"
        },
        "outputId": "be395f28-59f6-436f-dd61-3ea38c32316b"
      },
      "source": [
        "# Step 10: Performance Evaluation\r\n",
        "# \r\n",
        "from sklearn.metrics import confusion_matrix\r\n",
        "from sklearn.metrics import accuracy_score\r\n",
        "\r\n",
        "cm = confusion_matrix(y_test, y_pred)\r\n",
        "print(cm)\r\n",
        "print('Accuracy' , accuracy_score(y_test, y_pred))\r\n",
        "\r\n",
        "# Noting that from the output that with only one feature, \r\n",
        "# the random forest algorithm is able to correctly predict 28 out of 30 instances, \r\n",
        "# resulting in 93.33% accuracy."
      ],
      "execution_count": null,
      "outputs": [
        {
          "output_type": "stream",
          "text": [
            "[[   0  303  141    0    0]\n",
            " [   0 3506  152    0    0]\n",
            " [   0  252  560    0    0]\n",
            " [   0    0    1    0    0]\n",
            " [   0   16   55    0    0]]\n",
            "Accuracy 0.8154833533894906\n"
          ],
          "name": "stdout"
        }
      ]
    },
    {
      "cell_type": "markdown",
      "metadata": {
        "id": "1GRyH8cqFufQ"
      },
      "source": [
        "## 7. Hypothesis Testing"
      ]
    },
    {
      "cell_type": "markdown",
      "metadata": {
        "id": "2CMGNOE4SiiW"
      },
      "source": [
        "### Specifying the Hypotheses"
      ]
    },
    {
      "cell_type": "markdown",
      "metadata": {
        "id": "DRga_VY4TNwU"
      },
      "source": [
        "      Null hypothesis : Defualting a loan has no relation to age strata\r\n",
        "\r\n",
        "      Alternative Hypothesis: There is a significant relations between defaulting the loan and age strata\r\n",
        "\r\n"
      ]
    },
    {
      "cell_type": "markdown",
      "metadata": {
        "id": "u3IXcqtvTmat"
      },
      "source": [
        "> The sampling technique is stratified sampling"
      ]
    },
    {
      "cell_type": "code",
      "metadata": {
        "colab": {
          "base_uri": "https://localhost:8080/"
        },
        "id": "jClhxrF5qgXP",
        "outputId": "6f5b1884-9870-4c1c-96be-9d3a142e0b1b"
      },
      "source": [
        "df.columns"
      ],
      "execution_count": 26,
      "outputs": [
        {
          "output_type": "execute_result",
          "data": {
            "text/plain": [
              "Index(['dob', 'gender', 'account', 'branch', 'product', 'loan_principal',\n",
              "       'down_payment', 'total_amount', 'principal', 'total_', 'prepayment',\n",
              "       'loan_officer', 'cycle', 'disbursed_date', 'installments', 'status',\n",
              "       'trp', 'group_id', 'arrear_amount', 'age_at_disbursement'],\n",
              "      dtype='object')"
            ]
          },
          "metadata": {
            "tags": []
          },
          "execution_count": 26
        }
      ]
    },
    {
      "cell_type": "code",
      "metadata": {
        "id": "dq2lMeaSTiJb",
        "colab": {
          "base_uri": "https://localhost:8080/",
          "height": 298
        },
        "outputId": "268ac56e-b8cd-4457-82d7-ec56792ec79b"
      },
      "source": [
        "# Creating age brackets\r\n",
        "conditions2 = [\r\n",
        "    (df['age_at_disbursement'] <= 30),\r\n",
        "    (df['age_at_disbursement'] >= 30)]\r\n",
        "values2 = ['Below 30', 'Above 30']\r\n",
        "df['New_Age_Strata'] = np.select(conditions2, values2)\r\n",
        "df.head()"
      ],
      "execution_count": 27,
      "outputs": [
        {
          "output_type": "execute_result",
          "data": {
            "text/html": [
              "<div>\n",
              "<style scoped>\n",
              "    .dataframe tbody tr th:only-of-type {\n",
              "        vertical-align: middle;\n",
              "    }\n",
              "\n",
              "    .dataframe tbody tr th {\n",
              "        vertical-align: top;\n",
              "    }\n",
              "\n",
              "    .dataframe thead th {\n",
              "        text-align: right;\n",
              "    }\n",
              "</style>\n",
              "<table border=\"1\" class=\"dataframe\">\n",
              "  <thead>\n",
              "    <tr style=\"text-align: right;\">\n",
              "      <th></th>\n",
              "      <th>dob</th>\n",
              "      <th>gender</th>\n",
              "      <th>account</th>\n",
              "      <th>branch</th>\n",
              "      <th>product</th>\n",
              "      <th>loan_principal</th>\n",
              "      <th>down_payment</th>\n",
              "      <th>total_amount</th>\n",
              "      <th>principal</th>\n",
              "      <th>total_</th>\n",
              "      <th>prepayment</th>\n",
              "      <th>loan_officer</th>\n",
              "      <th>cycle</th>\n",
              "      <th>disbursed_date</th>\n",
              "      <th>installments</th>\n",
              "      <th>status</th>\n",
              "      <th>trp</th>\n",
              "      <th>group_id</th>\n",
              "      <th>arrear_amount</th>\n",
              "      <th>age_at_disbursement</th>\n",
              "      <th>New_Age_Strata</th>\n",
              "    </tr>\n",
              "  </thead>\n",
              "  <tbody>\n",
              "    <tr>\n",
              "      <th>0</th>\n",
              "      <td>1965-01-01</td>\n",
              "      <td>Female</td>\n",
              "      <td>18876</td>\n",
              "      <td>Vihiga</td>\n",
              "      <td>BORA</td>\n",
              "      <td>4900.0</td>\n",
              "      <td>700.0</td>\n",
              "      <td>5600.0</td>\n",
              "      <td>0</td>\n",
              "      <td>0</td>\n",
              "      <td>0</td>\n",
              "      <td>Anthony</td>\n",
              "      <td>1.0</td>\n",
              "      <td>2019-01-09</td>\n",
              "      <td>7</td>\n",
              "      <td>Closed</td>\n",
              "      <td>71.40%</td>\n",
              "      <td>17073</td>\n",
              "      <td>0</td>\n",
              "      <td>54.0</td>\n",
              "      <td>Above 30</td>\n",
              "    </tr>\n",
              "    <tr>\n",
              "      <th>1</th>\n",
              "      <td>1953-05-15</td>\n",
              "      <td>Female</td>\n",
              "      <td>18877</td>\n",
              "      <td>Vihiga</td>\n",
              "      <td>BORA</td>\n",
              "      <td>4900.0</td>\n",
              "      <td>700.0</td>\n",
              "      <td>5600.0</td>\n",
              "      <td>0</td>\n",
              "      <td>0</td>\n",
              "      <td>0</td>\n",
              "      <td>Anthony</td>\n",
              "      <td>1.0</td>\n",
              "      <td>2019-01-09</td>\n",
              "      <td>7</td>\n",
              "      <td>Closed</td>\n",
              "      <td>100%</td>\n",
              "      <td>17073</td>\n",
              "      <td>0</td>\n",
              "      <td>66.0</td>\n",
              "      <td>Above 30</td>\n",
              "    </tr>\n",
              "    <tr>\n",
              "      <th>2</th>\n",
              "      <td>1954-01-01</td>\n",
              "      <td>Female</td>\n",
              "      <td>18879</td>\n",
              "      <td>Vihiga</td>\n",
              "      <td>BORA</td>\n",
              "      <td>4900.0</td>\n",
              "      <td>700.0</td>\n",
              "      <td>5600.0</td>\n",
              "      <td>0</td>\n",
              "      <td>0</td>\n",
              "      <td>0</td>\n",
              "      <td>Anthony</td>\n",
              "      <td>1.0</td>\n",
              "      <td>2019-01-09</td>\n",
              "      <td>7</td>\n",
              "      <td>Closed</td>\n",
              "      <td>14.30%</td>\n",
              "      <td>17073</td>\n",
              "      <td>0</td>\n",
              "      <td>65.0</td>\n",
              "      <td>Above 30</td>\n",
              "    </tr>\n",
              "    <tr>\n",
              "      <th>3</th>\n",
              "      <td>1986-12-30</td>\n",
              "      <td>Female</td>\n",
              "      <td>18880</td>\n",
              "      <td>Vihiga</td>\n",
              "      <td>BORA</td>\n",
              "      <td>4900.0</td>\n",
              "      <td>700.0</td>\n",
              "      <td>5600.0</td>\n",
              "      <td>0</td>\n",
              "      <td>0</td>\n",
              "      <td>0</td>\n",
              "      <td>Anthony</td>\n",
              "      <td>1.0</td>\n",
              "      <td>2019-01-09</td>\n",
              "      <td>7</td>\n",
              "      <td>Closed</td>\n",
              "      <td>14.30%</td>\n",
              "      <td>17073</td>\n",
              "      <td>0</td>\n",
              "      <td>33.0</td>\n",
              "      <td>Above 30</td>\n",
              "    </tr>\n",
              "    <tr>\n",
              "      <th>4</th>\n",
              "      <td>1978-01-02</td>\n",
              "      <td>Male</td>\n",
              "      <td>18881</td>\n",
              "      <td>Vihiga</td>\n",
              "      <td>BORA</td>\n",
              "      <td>4900.0</td>\n",
              "      <td>700.0</td>\n",
              "      <td>5600.0</td>\n",
              "      <td>0</td>\n",
              "      <td>0</td>\n",
              "      <td>0</td>\n",
              "      <td>Anthony</td>\n",
              "      <td>1.0</td>\n",
              "      <td>2019-01-09</td>\n",
              "      <td>7</td>\n",
              "      <td>Closed</td>\n",
              "      <td>100%</td>\n",
              "      <td>17073</td>\n",
              "      <td>0</td>\n",
              "      <td>41.0</td>\n",
              "      <td>Above 30</td>\n",
              "    </tr>\n",
              "  </tbody>\n",
              "</table>\n",
              "</div>"
            ],
            "text/plain": [
              "         dob  gender  account  ... arrear_amount age_at_disbursement  New_Age_Strata\n",
              "0 1965-01-01  Female    18876  ...             0                54.0        Above 30\n",
              "1 1953-05-15  Female    18877  ...             0                66.0        Above 30\n",
              "2 1954-01-01  Female    18879  ...             0                65.0        Above 30\n",
              "3 1986-12-30  Female    18880  ...             0                33.0        Above 30\n",
              "4 1978-01-02    Male    18881  ...             0                41.0        Above 30\n",
              "\n",
              "[5 rows x 21 columns]"
            ]
          },
          "metadata": {
            "tags": []
          },
          "execution_count": 27
        }
      ]
    },
    {
      "cell_type": "code",
      "metadata": {
        "id": "4PBtStA8UKpj",
        "colab": {
          "base_uri": "https://localhost:8080/"
        },
        "outputId": "0809a3d6-3331-4d27-83cd-4aaf315bc3c8"
      },
      "source": [
        "# Sampling\r\n",
        "sample = df.groupby('New_Age_Strata', group_keys=False).apply(lambda grouped_subset : grouped_subset.sample(frac=0.1))\r\n",
        "\r\n",
        "# proportion of the stratified sample\r\n",
        "print(sample['New_Age_Strata'].value_counts())"
      ],
      "execution_count": 28,
      "outputs": [
        {
          "output_type": "stream",
          "text": [
            "Above 30    2223\n",
            "Below 30     837\n",
            "Name: New_Age_Strata, dtype: int64\n"
          ],
          "name": "stdout"
        }
      ]
    },
    {
      "cell_type": "code",
      "metadata": {
        "id": "c3QaTSg5UUM7"
      },
      "source": [
        "# Picking out the samples\r\n",
        "above_30 = sample[(sample['New_Age_Strata'] == 'Above 30')]\r\n",
        "below_30 = sample[(sample['New_Age_Strata'] == 'Below 30')]"
      ],
      "execution_count": 29,
      "outputs": []
    },
    {
      "cell_type": "code",
      "metadata": {
        "id": "tlFmB28-Uceq",
        "colab": {
          "base_uri": "https://localhost:8080/",
          "height": 135
        },
        "outputId": "9679d459-def1-4d20-8062-61ae4b59f29f"
      },
      "source": [
        "# Crosstab\r\n",
        "data_crosstab = pd.crosstab(sample['New_Age_Strata'], df['status'],  margins = False)\r\n",
        "data_crosstab"
      ],
      "execution_count": 30,
      "outputs": [
        {
          "output_type": "execute_result",
          "data": {
            "text/html": [
              "<div>\n",
              "<style scoped>\n",
              "    .dataframe tbody tr th:only-of-type {\n",
              "        vertical-align: middle;\n",
              "    }\n",
              "\n",
              "    .dataframe tbody tr th {\n",
              "        vertical-align: top;\n",
              "    }\n",
              "\n",
              "    .dataframe thead th {\n",
              "        text-align: right;\n",
              "    }\n",
              "</style>\n",
              "<table border=\"1\" class=\"dataframe\">\n",
              "  <thead>\n",
              "    <tr style=\"text-align: right;\">\n",
              "      <th>status</th>\n",
              "      <th>Active</th>\n",
              "      <th>Closed</th>\n",
              "      <th>Overdue</th>\n",
              "      <th>Written Off</th>\n",
              "    </tr>\n",
              "    <tr>\n",
              "      <th>New_Age_Strata</th>\n",
              "      <th></th>\n",
              "      <th></th>\n",
              "      <th></th>\n",
              "      <th></th>\n",
              "    </tr>\n",
              "  </thead>\n",
              "  <tbody>\n",
              "    <tr>\n",
              "      <th>Above 30</th>\n",
              "      <td>516</td>\n",
              "      <td>1389</td>\n",
              "      <td>297</td>\n",
              "      <td>21</td>\n",
              "    </tr>\n",
              "    <tr>\n",
              "      <th>Below 30</th>\n",
              "      <td>179</td>\n",
              "      <td>461</td>\n",
              "      <td>180</td>\n",
              "      <td>17</td>\n",
              "    </tr>\n",
              "  </tbody>\n",
              "</table>\n",
              "</div>"
            ],
            "text/plain": [
              "status          Active  Closed  Overdue  Written Off\n",
              "New_Age_Strata                                      \n",
              "Above 30           516    1389      297           21\n",
              "Below 30           179     461      180           17"
            ]
          },
          "metadata": {
            "tags": []
          },
          "execution_count": 30
        }
      ]
    },
    {
      "cell_type": "code",
      "metadata": {
        "id": "nkRjXBNUUjVm",
        "colab": {
          "base_uri": "https://localhost:8080/"
        },
        "outputId": "02f8accd-898a-488d-fa78-0c2dd79c35c9"
      },
      "source": [
        "# defining the table\r\n",
        "alpha = 0.05\r\n",
        "chi_data = data_crosstab.values \r\n",
        "stat, p, dof, expected = chi2_contingency(chi_data) \r\n",
        "  \r\n",
        "# interpreting the p-value \r\n",
        "print(\"p value is \" + str(p)) \r\n",
        "if p <= alpha: \r\n",
        "    print('Dependent (reject H0)') \r\n",
        "else: \r\n",
        "    print('Independent (H0 holds true)')\r\n"
      ],
      "execution_count": 31,
      "outputs": [
        {
          "output_type": "stream",
          "text": [
            "p value is 2.737568153439515e-08\n",
            "Dependent (reject H0)\n"
          ],
          "name": "stdout"
        }
      ]
    },
    {
      "cell_type": "markdown",
      "metadata": {
        "id": "2gRLN8-GrQXw"
      },
      "source": [
        "**Findings**\r\n",
        "* The null hypothesis has been rejected.\r\n",
        "* Defaulting does not depend on the age strata\r\n",
        "* Further statistical analysis should be conducted to asceratin factors that affect defaulting "
      ]
    },
    {
      "cell_type": "markdown",
      "metadata": {
        "id": "Bz7JmgNzFzCj"
      },
      "source": [
        "## 8. Challenging the solution "
      ]
    },
    {
      "cell_type": "code",
      "metadata": {
        "id": "QwNPXgHEA_8M",
        "colab": {
          "base_uri": "https://localhost:8080/",
          "height": 135
        },
        "outputId": "0c87ee4a-c558-456a-a630-3ed3f8a155aa"
      },
      "source": [
        "# we will conduct a different test on the same hypothesis \r\n",
        "data_crosstab"
      ],
      "execution_count": 34,
      "outputs": [
        {
          "output_type": "execute_result",
          "data": {
            "text/html": [
              "<div>\n",
              "<style scoped>\n",
              "    .dataframe tbody tr th:only-of-type {\n",
              "        vertical-align: middle;\n",
              "    }\n",
              "\n",
              "    .dataframe tbody tr th {\n",
              "        vertical-align: top;\n",
              "    }\n",
              "\n",
              "    .dataframe thead th {\n",
              "        text-align: right;\n",
              "    }\n",
              "</style>\n",
              "<table border=\"1\" class=\"dataframe\">\n",
              "  <thead>\n",
              "    <tr style=\"text-align: right;\">\n",
              "      <th>status</th>\n",
              "      <th>Active</th>\n",
              "      <th>Closed</th>\n",
              "      <th>Overdue</th>\n",
              "      <th>Written Off</th>\n",
              "    </tr>\n",
              "    <tr>\n",
              "      <th>New_Age_Strata</th>\n",
              "      <th></th>\n",
              "      <th></th>\n",
              "      <th></th>\n",
              "      <th></th>\n",
              "    </tr>\n",
              "  </thead>\n",
              "  <tbody>\n",
              "    <tr>\n",
              "      <th>Above 30</th>\n",
              "      <td>516</td>\n",
              "      <td>1389</td>\n",
              "      <td>297</td>\n",
              "      <td>21</td>\n",
              "    </tr>\n",
              "    <tr>\n",
              "      <th>Below 30</th>\n",
              "      <td>179</td>\n",
              "      <td>461</td>\n",
              "      <td>180</td>\n",
              "      <td>17</td>\n",
              "    </tr>\n",
              "  </tbody>\n",
              "</table>\n",
              "</div>"
            ],
            "text/plain": [
              "status          Active  Closed  Overdue  Written Off\n",
              "New_Age_Strata                                      \n",
              "Above 30           516    1389      297           21\n",
              "Below 30           179     461      180           17"
            ]
          },
          "metadata": {
            "tags": []
          },
          "execution_count": 34
        }
      ]
    },
    {
      "cell_type": "code",
      "metadata": {
        "colab": {
          "base_uri": "https://localhost:8080/"
        },
        "id": "Y8OhTliVHfUk",
        "outputId": "ac655f38-3bcf-48f7-996e-d6bca4e46b3f"
      },
      "source": [
        "# We will look for the probability that someone below 30 has an overdue account \r\n",
        "# p = 180 / 477\r\n",
        "#We will try 30 times\r\n",
        "# n= 30 \r\n",
        "# x = 1\r\n",
        "stats.binom_test(1,n=30,p=180/477,alternative='greater')"
      ],
      "execution_count": 38,
      "outputs": [
        {
          "output_type": "execute_result",
          "data": {
            "text/plain": [
              "0.9999993283514086"
            ]
          },
          "metadata": {
            "tags": []
          },
          "execution_count": 38
        }
      ]
    },
    {
      "cell_type": "markdown",
      "metadata": {
        "id": "BDtFiPoaJaqG"
      },
      "source": [
        "Findings \r\n",
        "The probability of someone below the age of 30 having an overdue account is very likely.Hence we can see that the previous hypothesis was right. "
      ]
    },
    {
      "cell_type": "markdown",
      "metadata": {
        "id": "Bf8nYMsXiJ5N"
      },
      "source": [
        "## 9. Further Analysis\r\n",
        "\r\n",
        "\r\n"
      ]
    },
    {
      "cell_type": "code",
      "metadata": {
        "colab": {
          "base_uri": "https://localhost:8080/",
          "height": 132
        },
        "id": "EMYwxK_XkCKA",
        "outputId": "6895589f-394b-4de7-9844-6b9742116c63"
      },
      "source": [
        "df.head(1)"
      ],
      "execution_count": null,
      "outputs": [
        {
          "output_type": "execute_result",
          "data": {
            "text/html": [
              "<div>\n",
              "<style scoped>\n",
              "    .dataframe tbody tr th:only-of-type {\n",
              "        vertical-align: middle;\n",
              "    }\n",
              "\n",
              "    .dataframe tbody tr th {\n",
              "        vertical-align: top;\n",
              "    }\n",
              "\n",
              "    .dataframe thead th {\n",
              "        text-align: right;\n",
              "    }\n",
              "</style>\n",
              "<table border=\"1\" class=\"dataframe\">\n",
              "  <thead>\n",
              "    <tr style=\"text-align: right;\">\n",
              "      <th></th>\n",
              "      <th>client_id</th>\n",
              "      <th>dob</th>\n",
              "      <th>gender</th>\n",
              "      <th>account</th>\n",
              "      <th>branch</th>\n",
              "      <th>product</th>\n",
              "      <th>loan_principal</th>\n",
              "      <th>down_payment</th>\n",
              "      <th>total_amount</th>\n",
              "      <th>fees</th>\n",
              "      <th>total_</th>\n",
              "      <th>prepayment</th>\n",
              "      <th>loan_officer</th>\n",
              "      <th>cycle</th>\n",
              "      <th>disbursed_date</th>\n",
              "      <th>installments</th>\n",
              "      <th>loan_frequency</th>\n",
              "      <th>status</th>\n",
              "      <th>trp_in_percentage</th>\n",
              "      <th>group_id</th>\n",
              "      <th>final_payment_date</th>\n",
              "      <th>arrear_amount</th>\n",
              "      <th>days_in_arrears</th>\n",
              "    </tr>\n",
              "  </thead>\n",
              "  <tbody>\n",
              "    <tr>\n",
              "      <th>0</th>\n",
              "      <td>0008-0056-17323</td>\n",
              "      <td>1965-01-01</td>\n",
              "      <td>Female</td>\n",
              "      <td>18876</td>\n",
              "      <td>Vihiga</td>\n",
              "      <td>BORA</td>\n",
              "      <td>4900.00</td>\n",
              "      <td>700</td>\n",
              "      <td>5600.00</td>\n",
              "      <td>0</td>\n",
              "      <td>0</td>\n",
              "      <td>0</td>\n",
              "      <td>Anthony</td>\n",
              "      <td>1.0</td>\n",
              "      <td>2019-01-09</td>\n",
              "      <td>7</td>\n",
              "      <td>1</td>\n",
              "      <td>Closed</td>\n",
              "      <td>71.40</td>\n",
              "      <td>17073</td>\n",
              "      <td>2019-08-03</td>\n",
              "      <td>0</td>\n",
              "      <td>0.0</td>\n",
              "    </tr>\n",
              "  </tbody>\n",
              "</table>\n",
              "</div>"
            ],
            "text/plain": [
              "         client_id        dob  ... arrear_amount  days_in_arrears\n",
              "0  0008-0056-17323 1965-01-01  ...             0              0.0\n",
              "\n",
              "[1 rows x 23 columns]"
            ]
          },
          "metadata": {
            "tags": []
          },
          "execution_count": 60
        }
      ]
    },
    {
      "cell_type": "markdown",
      "metadata": {
        "id": "w0K-oYvVig4w"
      },
      "source": [
        "### Is there any correlation between the age of the client and choice of the product bought ? "
      ]
    },
    {
      "cell_type": "code",
      "metadata": {
        "id": "lN40aEHilBMD"
      },
      "source": [
        "df['product'].replace('B00M',0, inplace=True)\r\n",
        "df['product'].replace('BOOM',1,inplace=True)\r\n",
        "df['product'].replace('BORA',2,inplace=True)\r\n",
        "df['product'].replace('CNVS',3,inplace=True)\r\n",
        "df['product'].replace('COOK',4,inplace=True)\r\n",
        "df['product'].replace('CVS2',5,inplace=True)\r\n",
        "df['product'].replace('EPC',6,inplace=True)\r\n",
        "df['product'].replace('GASC',7,inplace=True)\r\n",
        "df['product'].replace('HOME',8,inplace=True)\r\n",
        "df['product'].replace('JIKO',9,inplace=True)\r\n",
        "df['product'].replace('KUNI',10 ,inplace=True)\r\n",
        "df['product'].replace('LPG2',11,inplace=True)\r\n",
        "df['product'].replace('LPG3',12,inplace=True)\r\n",
        "df['product'].replace('MRKT',13,inplace=True)\r\n",
        "df['product'].replace('P400',14,inplace=True)\r\n",
        "df['product'].replace('PRO4',15,inplace=True)\r\n",
        "df['product'].replace('SILO',16,inplace=True)\r\n",
        "df['product'].replace('SKH+',17,inplace=True) \r\n",
        "df['product'].replace('SLO2',18,inplace=True)\r\n",
        "df['product'].replace('SPRA',19,inplace=True)\r\n",
        "df['product'].replace('TANK',20,inplace=True)\r\n",
        "df['product'].replace('TNK',21,inplace=True)"
      ],
      "execution_count": null,
      "outputs": []
    },
    {
      "cell_type": "code",
      "metadata": {
        "id": "uaOSyX4OirvY",
        "colab": {
          "base_uri": "https://localhost:8080/"
        },
        "outputId": "27dad557-94ad-48c1-ae95-1c86d0504b1f"
      },
      "source": [
        "import datetime\r\n",
        "df['age'] = 2019 - pd.DatetimeIndex(df['dob']).year\r\n",
        "#df['age'] = pd.to_numeric(df['age'])"
      ],
      "execution_count": null,
      "outputs": [
        {
          "output_type": "execute_result",
          "data": {
            "text/plain": [
              "array([54., 66., 65., 33., 41., 37., 73., 30., 22., 43., 57., 63., 46.,\n",
              "       42., 44., 47., 36., 35., 28., 23., 34., 60., 49., 27., 39., 31.,\n",
              "       32., 29., 67., 20., 26., 55., 77., 56., 40., 38., 45., 19., 58.,\n",
              "       62., 69., 59., 21., 48., 25., 24., 71., 53., 51., 50., 95., 52.,\n",
              "       64., 61., 75., 70., 81., 18., 76., 68., 79., 80., 74., 85., 72.,\n",
              "       87., 88., 89., 84., 83., nan, 90., 78., 82., 86., 92., 91., 98.,\n",
              "       17., 94.])"
            ]
          },
          "metadata": {
            "tags": []
          },
          "execution_count": 292
        }
      ]
    },
    {
      "cell_type": "code",
      "metadata": {
        "colab": {
          "base_uri": "https://localhost:8080/"
        },
        "id": "LAU4Sl3ESXOU",
        "outputId": "a64edcfd-a63f-48ff-d2b3-80c78cb8abab"
      },
      "source": [
        "df['age'].corr(df['product'])"
      ],
      "execution_count": null,
      "outputs": [
        {
          "output_type": "execute_result",
          "data": {
            "text/plain": [
              "-0.06880265590726449"
            ]
          },
          "metadata": {
            "tags": []
          },
          "execution_count": 293
        }
      ]
    },
    {
      "cell_type": "code",
      "metadata": {
        "id": "juq3RaUil5RG"
      },
      "source": [
        "# Conditions\r\n",
        "conditions = [\r\n",
        "    (df['age'] >= 0) & (df['age'] <= 20),\r\n",
        "    (df['age'] >= 21) & (df['age'] <= 40),\r\n",
        "    (df['age'] >= 41) & (df['age'] <= 120)\r\n",
        "    ]\r\n",
        "\r\n",
        "# Values\r\n",
        "values = ['0 - 20 yrs', '21 - 40 yrs', 'Over 40 yrs']\r\n",
        "\r\n",
        "# age_bracket column\r\n",
        "df['age_bracket'] = np.select(conditions, values)\r\n"
      ],
      "execution_count": null,
      "outputs": []
    },
    {
      "cell_type": "code",
      "metadata": {
        "id": "ap-MU9Afl6Hb"
      },
      "source": [
        "df"
      ],
      "execution_count": null,
      "outputs": []
    },
    {
      "cell_type": "markdown",
      "metadata": {
        "id": "-kW4dBfxisKN"
      },
      "source": [
        "### Is there any correlation between the gender of the client and the choice of the product bought ? "
      ]
    },
    {
      "cell_type": "code",
      "metadata": {
        "colab": {
          "base_uri": "https://localhost:8080/",
          "height": 132
        },
        "id": "weDrRJ5ExWp-",
        "outputId": "7efe3618-de43-4f81-e5a2-ebc198ff57ce"
      },
      "source": [
        "df.head(1)"
      ],
      "execution_count": null,
      "outputs": [
        {
          "output_type": "execute_result",
          "data": {
            "text/html": [
              "<div>\n",
              "<style scoped>\n",
              "    .dataframe tbody tr th:only-of-type {\n",
              "        vertical-align: middle;\n",
              "    }\n",
              "\n",
              "    .dataframe tbody tr th {\n",
              "        vertical-align: top;\n",
              "    }\n",
              "\n",
              "    .dataframe thead th {\n",
              "        text-align: right;\n",
              "    }\n",
              "</style>\n",
              "<table border=\"1\" class=\"dataframe\">\n",
              "  <thead>\n",
              "    <tr style=\"text-align: right;\">\n",
              "      <th></th>\n",
              "      <th>client_id</th>\n",
              "      <th>dob</th>\n",
              "      <th>gender</th>\n",
              "      <th>account</th>\n",
              "      <th>branch</th>\n",
              "      <th>product</th>\n",
              "      <th>loan_principal</th>\n",
              "      <th>down_payment</th>\n",
              "      <th>total_amount</th>\n",
              "      <th>fees</th>\n",
              "      <th>total_</th>\n",
              "      <th>prepayment</th>\n",
              "      <th>loan_officer</th>\n",
              "      <th>cycle</th>\n",
              "      <th>disbursed_date</th>\n",
              "      <th>installments</th>\n",
              "      <th>loan_frequency</th>\n",
              "      <th>status</th>\n",
              "      <th>trp</th>\n",
              "      <th>group_id</th>\n",
              "      <th>final_payment_date</th>\n",
              "      <th>arrear_amount</th>\n",
              "      <th>days_in_arrears</th>\n",
              "    </tr>\n",
              "  </thead>\n",
              "  <tbody>\n",
              "    <tr>\n",
              "      <th>0</th>\n",
              "      <td>0008-0056-17323</td>\n",
              "      <td>1965-01-01</td>\n",
              "      <td>Female</td>\n",
              "      <td>18876</td>\n",
              "      <td>Vihiga</td>\n",
              "      <td>2</td>\n",
              "      <td>4900.00</td>\n",
              "      <td>700</td>\n",
              "      <td>5600.00</td>\n",
              "      <td>0</td>\n",
              "      <td>0</td>\n",
              "      <td>0</td>\n",
              "      <td>Anthony</td>\n",
              "      <td>1.0</td>\n",
              "      <td>2019-01-09</td>\n",
              "      <td>7</td>\n",
              "      <td>1</td>\n",
              "      <td>Closed</td>\n",
              "      <td>71.40%</td>\n",
              "      <td>17073</td>\n",
              "      <td>2019-08-03</td>\n",
              "      <td>0</td>\n",
              "      <td>NaN</td>\n",
              "    </tr>\n",
              "  </tbody>\n",
              "</table>\n",
              "</div>"
            ],
            "text/plain": [
              "         client_id        dob  ... arrear_amount  days_in_arrears\n",
              "0  0008-0056-17323 1965-01-01  ...             0              NaN\n",
              "\n",
              "[1 rows x 23 columns]"
            ]
          },
          "metadata": {
            "tags": []
          },
          "execution_count": 132
        }
      ]
    },
    {
      "cell_type": "code",
      "metadata": {
        "id": "sE8AgECVi3QJ"
      },
      "source": [
        "df['gender'].replace('Female',0,inplace=True)\r\n",
        "df['gender'].replace('Male',1,inplace=True)"
      ],
      "execution_count": null,
      "outputs": []
    },
    {
      "cell_type": "code",
      "metadata": {
        "colab": {
          "base_uri": "https://localhost:8080/"
        },
        "id": "m72E2fNvxnX0",
        "outputId": "83da3ded-caea-4989-ab12-483cfded67a6"
      },
      "source": [
        "df['gender'].corr(df['product'])"
      ],
      "execution_count": null,
      "outputs": [
        {
          "output_type": "execute_result",
          "data": {
            "text/plain": [
              "0.11400416218732867"
            ]
          },
          "metadata": {
            "tags": []
          },
          "execution_count": 134
        }
      ]
    },
    {
      "cell_type": "markdown",
      "metadata": {
        "id": "c2AJeebri3t7"
      },
      "source": [
        "### Is there any correlation between repayment behaviour(measured using TRP) and choice of the product bought? "
      ]
    },
    {
      "cell_type": "code",
      "metadata": {
        "id": "5QpGPt1p1pia"
      },
      "source": [
        "df['trp_in_percentage'] = df['trp_in_percentage'].astype(float)"
      ],
      "execution_count": null,
      "outputs": []
    },
    {
      "cell_type": "code",
      "metadata": {
        "colab": {
          "base_uri": "https://localhost:8080/"
        },
        "id": "b7W5PPZCjYGI",
        "outputId": "6ffa1d51-5f59-4140-99fd-d8fe3c4bb09e"
      },
      "source": [
        "df['trp_in_percentage'].corr(df['product'])"
      ],
      "execution_count": null,
      "outputs": [
        {
          "output_type": "execute_result",
          "data": {
            "text/plain": [
              "-0.07630517533017253"
            ]
          },
          "metadata": {
            "tags": []
          },
          "execution_count": 155
        }
      ]
    },
    {
      "cell_type": "markdown",
      "metadata": {
        "id": "2sP6bIZKjYXr"
      },
      "source": [
        "### How long do clients take to fully pay their loans ? "
      ]
    },
    {
      "cell_type": "code",
      "metadata": {
        "id": "lTjSw5Au7l0w",
        "colab": {
          "base_uri": "https://localhost:8080/"
        },
        "outputId": "f57a463d-d563-44e4-d3c4-794e326f146d"
      },
      "source": [
        "df.info()"
      ],
      "execution_count": null,
      "outputs": [
        {
          "output_type": "stream",
          "text": [
            "<class 'pandas.core.frame.DataFrame'>\n",
            "RangeIndex: 31516 entries, 0 to 31515\n",
            "Data columns (total 24 columns):\n",
            " #   Column              Non-Null Count  Dtype          \n",
            "---  ------              --------------  -----          \n",
            " 0   client_id           31516 non-null  object         \n",
            " 1   dob                 31502 non-null  datetime64[ns] \n",
            " 2   gender              31516 non-null  object         \n",
            " 3   account             31516 non-null  int64          \n",
            " 4   branch              31516 non-null  object         \n",
            " 5   product             31516 non-null  int64          \n",
            " 6   loan_principal      31516 non-null  object         \n",
            " 7   down_payment        31516 non-null  object         \n",
            " 8   total_amount        31516 non-null  object         \n",
            " 9   fees                31516 non-null  int64          \n",
            " 10  total_              31516 non-null  object         \n",
            " 11  prepayment          31516 non-null  object         \n",
            " 12  loan_officer        31516 non-null  object         \n",
            " 13  cycle               30823 non-null  float64        \n",
            " 14  disbursed_date      31516 non-null  datetime64[ns] \n",
            " 15  installments        31516 non-null  int64          \n",
            " 16  loan_frequency      31516 non-null  int64          \n",
            " 17  status              31516 non-null  object         \n",
            " 18  trp                 31313 non-null  object         \n",
            " 19  group_id            31516 non-null  object         \n",
            " 20  final_payment_date  18764 non-null  datetime64[ns] \n",
            " 21  arrear_amount       31516 non-null  object         \n",
            " 22  days_in_arrears     5107 non-null   float64        \n",
            " 23  age                 31502 non-null  timedelta64[ns]\n",
            "dtypes: datetime64[ns](3), float64(2), int64(5), object(13), timedelta64[ns](1)\n",
            "memory usage: 5.8+ MB\n"
          ],
          "name": "stdout"
        }
      ]
    },
    {
      "cell_type": "code",
      "metadata": {
        "id": "n-aFS4n17q_q"
      },
      "source": [
        "df['final_payment_date'] = pd.to_datetime(df['final_payment_date'])"
      ],
      "execution_count": null,
      "outputs": []
    },
    {
      "cell_type": "code",
      "metadata": {
        "colab": {
          "base_uri": "https://localhost:8080/"
        },
        "id": "y4mfQxb6jhd_",
        "outputId": "cbe0a3ac-6232-4267-f57e-83dfdc022ce2"
      },
      "source": [
        "difference = (df['disbursed_date']-df['final_payment_date'])\r\n",
        "difference.mean()"
      ],
      "execution_count": null,
      "outputs": [
        {
          "output_type": "execute_result",
          "data": {
            "text/plain": [
              "Timedelta('-162 days +22:24:45.738648476')"
            ]
          },
          "metadata": {
            "tags": []
          },
          "execution_count": 218
        }
      ]
    },
    {
      "cell_type": "markdown",
      "metadata": {
        "id": "9hS_Ncsljhvs"
      },
      "source": [
        "### What is the distribution of the data\r\n",
        "\r\n"
      ]
    },
    {
      "cell_type": "code",
      "metadata": {
        "colab": {
          "base_uri": "https://localhost:8080/",
          "height": 132
        },
        "id": "saXaV5X52drq",
        "outputId": "425a4400-2464-4927-994c-012e81705a60"
      },
      "source": [
        "df.head(1)"
      ],
      "execution_count": null,
      "outputs": [
        {
          "output_type": "execute_result",
          "data": {
            "text/html": [
              "<div>\n",
              "<style scoped>\n",
              "    .dataframe tbody tr th:only-of-type {\n",
              "        vertical-align: middle;\n",
              "    }\n",
              "\n",
              "    .dataframe tbody tr th {\n",
              "        vertical-align: top;\n",
              "    }\n",
              "\n",
              "    .dataframe thead th {\n",
              "        text-align: right;\n",
              "    }\n",
              "</style>\n",
              "<table border=\"1\" class=\"dataframe\">\n",
              "  <thead>\n",
              "    <tr style=\"text-align: right;\">\n",
              "      <th></th>\n",
              "      <th>client_id</th>\n",
              "      <th>dob</th>\n",
              "      <th>gender</th>\n",
              "      <th>account</th>\n",
              "      <th>branch</th>\n",
              "      <th>product</th>\n",
              "      <th>loan_principal</th>\n",
              "      <th>down_payment</th>\n",
              "      <th>total_amount</th>\n",
              "      <th>fees</th>\n",
              "      <th>total_</th>\n",
              "      <th>prepayment</th>\n",
              "      <th>loan_officer</th>\n",
              "      <th>cycle</th>\n",
              "      <th>disbursed_date</th>\n",
              "      <th>installments</th>\n",
              "      <th>loan_frequency</th>\n",
              "      <th>status</th>\n",
              "      <th>trp_in_percentage</th>\n",
              "      <th>group_id</th>\n",
              "      <th>final_payment_date</th>\n",
              "      <th>arrear_amount</th>\n",
              "      <th>days_in_arrears</th>\n",
              "    </tr>\n",
              "  </thead>\n",
              "  <tbody>\n",
              "    <tr>\n",
              "      <th>0</th>\n",
              "      <td>0008-0056-17323</td>\n",
              "      <td>1965-01-01</td>\n",
              "      <td>0</td>\n",
              "      <td>18876</td>\n",
              "      <td>6</td>\n",
              "      <td>2</td>\n",
              "      <td>4900.00</td>\n",
              "      <td>700</td>\n",
              "      <td>5600.00</td>\n",
              "      <td>0</td>\n",
              "      <td>0</td>\n",
              "      <td>0</td>\n",
              "      <td>Anthony</td>\n",
              "      <td>1.0</td>\n",
              "      <td>2019-01-09</td>\n",
              "      <td>7</td>\n",
              "      <td>1</td>\n",
              "      <td>Closed</td>\n",
              "      <td>71.4</td>\n",
              "      <td>17073</td>\n",
              "      <td>2019-08-03</td>\n",
              "      <td>0</td>\n",
              "      <td>0.0</td>\n",
              "    </tr>\n",
              "  </tbody>\n",
              "</table>\n",
              "</div>"
            ],
            "text/plain": [
              "         client_id        dob  ...  arrear_amount  days_in_arrears\n",
              "0  0008-0056-17323 1965-01-01  ...              0              0.0\n",
              "\n",
              "[1 rows x 23 columns]"
            ]
          },
          "metadata": {
            "tags": []
          },
          "execution_count": 158
        }
      ]
    },
    {
      "cell_type": "code",
      "metadata": {
        "colab": {
          "base_uri": "https://localhost:8080/",
          "height": 338
        },
        "id": "znkqz8b1jq5L",
        "outputId": "a1684d6e-c8b2-443c-f415-f5e2ab51a089"
      },
      "source": [
        "thelist = df.drop(['dob','disbursed_date','final_payment_date','client_id','status','loan_officer'],axis=1)\r\n",
        "sns.distplot(thelist)"
      ],
      "execution_count": null,
      "outputs": [
        {
          "output_type": "stream",
          "text": [
            "/usr/local/lib/python3.6/dist-packages/seaborn/distributions.py:2557: FutureWarning: `distplot` is a deprecated function and will be removed in a future version. Please adapt your code to use either `displot` (a figure-level function with similar flexibility) or `histplot` (an axes-level function for histograms).\n",
            "  warnings.warn(msg, FutureWarning)\n"
          ],
          "name": "stderr"
        },
        {
          "output_type": "execute_result",
          "data": {
            "text/plain": [
              "<matplotlib.axes._subplots.AxesSubplot at 0x7f473d017be0>"
            ]
          },
          "metadata": {
            "tags": []
          },
          "execution_count": 162
        },
        {
          "output_type": "display_data",
          "data": {
            "image/png": "[encoded data removed]",
            "text/plain": [
              "<Figure size 432x288 with 1 Axes>"
            ]
          },
          "metadata": {
            "tags": [],
            "needs_background": "light"
          }
        }
      ]
    },
    {
      "cell_type": "markdown",
      "metadata": {
        "id": "aoi17vKxF39x"
      },
      "source": [
        "## 10. Follow up Questions \r\n",
        "Claire"
      ]
    },
    {
      "cell_type": "markdown",
      "metadata": {
        "id": "IeluPi43GRdN"
      },
      "source": [
        "### Did we have the right data "
      ]
    },
    {
      "cell_type": "markdown",
      "metadata": {
        "id": "_ZvXFMXbLZUt"
      },
      "source": [
        "Yes we had the right data because it had all the columns we needed to meet our objectives. "
      ]
    },
    {
      "cell_type": "markdown",
      "metadata": {
        "id": "zqvsGBjzLZhU"
      },
      "source": [
        "### Do we need other data to answer this question "
      ]
    },
    {
      "cell_type": "markdown",
      "metadata": {
        "id": "3r4oCPj_Lfbp"
      },
      "source": [
        "The dataset we had was sufficient enough to meet our objectives and answer some of the questions we had regarding the data. "
      ]
    },
    {
      "cell_type": "markdown",
      "metadata": {
        "id": "6GTOA2yLLfmx"
      },
      "source": [
        "### Do we have the right question "
      ]
    },
    {
      "cell_type": "markdown",
      "metadata": {
        "id": "mCsMqC3QLkF9"
      },
      "source": [
        ""
      ]
    }
  ]
}